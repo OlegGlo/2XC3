{
 "cells": [
  {
   "cell_type": "code",
   "execution_count": 15,
   "metadata": {},
   "outputs": [],
   "source": [
    "import random\n",
    "\n",
    "def create_random_list(n):\n",
    "    L = []\n",
    "    for _ in range(n):\n",
    "        L.append(random.randint(1,n))\n",
    "    return L"
   ]
  },
  {
   "cell_type": "code",
   "execution_count": 16,
   "metadata": {},
   "outputs": [],
   "source": [
    "def mergesort_bottom(L):\n",
    "    w = 1\n",
    "    while (w < len(L)):\n",
    "        start = 0\n",
    "        while (start < len(L)):\n",
    "            end = min(start + (w*2-1), len(L)-1)\n",
    "            mid = (start + end)//2\n",
    "            if (w > len(L)//2):\n",
    "                mid = end - (len(L) % w)\n",
    "            merge_bottom(L, start, mid, end)\n",
    "            start += w*2\n",
    "        w *= 2\n",
    "    return L"
   ]
  },
  {
   "cell_type": "code",
   "execution_count": 17,
   "metadata": {},
   "outputs": [],
   "source": [
    "def merge_bottom(L, start, mid, end):\n",
    "    l, r = [], []\n",
    "    a, b = mid - start + 1, end - mid\n",
    "    for i in range(0,a):\n",
    "        l.append(L[start + i])\n",
    "    for i in range(0,b):\n",
    "        r.append(L[mid + i + 1])\n",
    "\n",
    "    x, y, z = 0, 0, start\n",
    "    while (x < a and y < b):\n",
    "        if l[x] > r[y]:\n",
    "            L[z] = r[y]\n",
    "            y += 1\n",
    "        else:\n",
    "            L[z] = l[x]\n",
    "            x += 1\n",
    "        z += 1\n",
    "    while (x < a):\n",
    "        L[z] = l[x]\n",
    "        x += 1\n",
    "        z += 1\n",
    "    while (y < b):\n",
    "        L[z] = r[y]\n",
    "        y += 1\n",
    "        z += 1\n",
    "    return\n",
    "\n",
    "#no recursion, only lists"
   ]
  },
  {
   "cell_type": "code",
   "execution_count": 18,
   "metadata": {},
   "outputs": [],
   "source": [
    "def timer(index):\n",
    "    if __name__ == '__main__':\n",
    "        import timeit\n",
    "        print(\"timing for {} runs\".format(index))\n",
    "        return timeit.repeat(\"mergesort_bottom(array)\", setup=\"from __main__ import mergesort_bottom, array\", repeat=1, number=1) "
   ]
  },
  {
   "cell_type": "code",
   "execution_count": 19,
   "metadata": {},
   "outputs": [],
   "source": [
    "def logtocsv(num,results):\n",
    "    with open('mergebottom.csv', 'a') as f: #'w' for write, 'a' for append\n",
    "        f.write(str(num))\n",
    "        f.write(\",\")\n",
    "        f.write(str(results))\n",
    "        f.write('\\n')"
   ]
  },
  {
   "cell_type": "code",
   "execution_count": 20,
   "metadata": {},
   "outputs": [],
   "source": [
    "# array = [2,4,2,45,7,5,2,2,5,8,9,4,23]\n",
    "\n",
    "# print(array)\n",
    "\n",
    "# mergesort_bottom(array)\n",
    "\n",
    "# print(array)"
   ]
  },
  {
   "cell_type": "code",
   "execution_count": 21,
   "metadata": {},
   "outputs": [
    {
     "name": "stdout",
     "output_type": "stream",
     "text": [
      "timing for 10 runs\n",
      "timing for 10 runs\n",
      "timing for 10 runs\n",
      "timing for 10 runs\n",
      "timing for 10 runs\n",
      "timing for 100 runs\n",
      "timing for 100 runs\n",
      "timing for 100 runs\n",
      "timing for 100 runs\n",
      "timing for 100 runs\n",
      "timing for 1000 runs\n",
      "timing for 1000 runs\n",
      "timing for 1000 runs\n",
      "timing for 1000 runs\n",
      "timing for 1000 runs\n",
      "timing for 10000 runs\n",
      "timing for 10000 runs\n",
      "timing for 10000 runs\n",
      "timing for 10000 runs\n",
      "timing for 10000 runs\n",
      "timing for 100000 runs\n",
      "timing for 100000 runs\n",
      "timing for 100000 runs\n",
      "timing for 100000 runs\n",
      "timing for 100000 runs\n",
      "timing for 1000000 runs\n",
      "timing for 1000000 runs\n",
      "timing for 1000000 runs\n",
      "timing for 1000000 runs\n",
      "timing for 1000000 runs\n"
     ]
    }
   ],
   "source": [
    "i = 10\n",
    "\n",
    "while (i < 1000001):\n",
    "    for x in range(5):\n",
    "        testarray = create_random_list(i)  \n",
    "        array = testarray.copy()\n",
    "        logtocsv(i, timer(i)[0])\n",
    "\n",
    "    i *= 10"
   ]
  }
 ],
 "metadata": {
  "interpreter": {
   "hash": "31f2aee4e71d21fbe5cf8b01ff0e069b9275f58929596ceb00d14d90e3e16cd6"
  },
  "kernelspec": {
   "display_name": "Python 3.8.9 64-bit",
   "language": "python",
   "name": "python3"
  },
  "language_info": {
   "codemirror_mode": {
    "name": "ipython",
    "version": 3
   },
   "file_extension": ".py",
   "mimetype": "text/x-python",
   "name": "python",
   "nbconvert_exporter": "python",
   "pygments_lexer": "ipython3",
   "version": "3.8.3"
  },
  "orig_nbformat": 4
 },
 "nbformat": 4,
 "nbformat_minor": 2
}
