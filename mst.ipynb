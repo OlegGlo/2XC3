{
 "cells": [
  {
   "cell_type": "code",
   "execution_count": 356,
   "metadata": {},
   "outputs": [],
   "source": [
    "#Undirected graph using an adjacency list\n",
    "class WeightedGraph:\n",
    "\n",
    "    weightSet = set()\n",
    "\n",
    "    def __init__(self, n):\n",
    "        self.weightSet.clear() #Set tracking addition\n",
    "        self.adj = {}\n",
    "        for i in range(n):\n",
    "            self.adj[i] = []\n",
    "\n",
    "    def are_connected(self, node1, node2):\n",
    "        for edge in self.adj[node1]:\n",
    "            if edge[0] == node2:\n",
    "                return True\n",
    "        return False\n",
    "\n",
    "    def adjacent_nodes(self, node):\n",
    "        return self.adj[node]\n",
    "\n",
    "    def add_node(self):\n",
    "        self.adj[len(self.adj)] = []\n",
    "\n",
    "    def add_edge(self, node1, node2, weight):\n",
    "        if weight not in self.weightSet:\n",
    "            self.weightSet.add(weight) # Prevent equal weights\n",
    "            \n",
    "            if node1 not in self.adj[node2]:\n",
    "                self.adj[node1].append((node2, weight))\n",
    "                self.adj[node2].append((node1, weight))\n",
    "        else:\n",
    "            print(\"duplicate weights\")\n",
    "\n",
    "    def w(self, node1, node2):\n",
    "        for edge_info in self.adj[node1]:\n",
    "            if node2 == edge_info[0]:\n",
    "                return edge_info[1]\n",
    "\n",
    "    def number_of_nodes(self):\n",
    "        return len(self.adj)\n",
    "\n",
    "    def showWeights(self):\n",
    "        for x in self.weightSet:\n",
    "            print(x)\n",
    "\n",
    "    def show(self):\n",
    "        for i in range(len(self.adj)):\n",
    "            print(\"node:\", i)\n",
    "            print(self.adj[i])"
   ]
  },
  {
   "cell_type": "markdown",
   "metadata": {},
   "source": [
    "Testing:"
   ]
  },
  {
   "cell_type": "code",
   "execution_count": 358,
   "metadata": {},
   "outputs": [],
   "source": [
    "\n",
    "# gr1 = WeightedGraph(4)\n",
    "# gr1.add_edge(0,1,40)\n",
    "# gr1.add_edge(1,2,30)\n",
    "# gr1.add_edge(2,3,20)\n",
    "\n",
    "# # print(gr1.are_connected(1,2))\n",
    "# # print(gr1.adjacent_nodes(1))\n",
    "# # print(gr1.w(1,2))\n",
    "# # print(gr1.number_of_nodes())\n",
    "\n",
    "# gr1.show()"
   ]
  },
  {
   "cell_type": "code",
   "execution_count": 359,
   "metadata": {},
   "outputs": [
    {
     "name": "stdout",
     "output_type": "stream",
     "text": [
      "node: 0\n",
      "[(7, 16), (4, 38), (2, 26), (6, 58)]\n",
      "node: 1\n",
      "[(5, 32), (7, 19), (2, 36), (3, 29)]\n",
      "node: 2\n",
      "[(3, 17), (0, 26), (1, 36), (7, 34), (6, 40)]\n",
      "node: 3\n",
      "[(2, 17), (1, 29), (6, 52)]\n",
      "node: 4\n",
      "[(5, 35), (7, 37), (0, 38), (6, 93)]\n",
      "node: 5\n",
      "[(4, 35), (7, 28), (1, 32)]\n",
      "node: 6\n",
      "[(2, 40), (3, 52), (0, 58), (4, 93)]\n",
      "node: 7\n",
      "[(4, 37), (5, 28), (0, 16), (1, 19), (2, 34)]\n"
     ]
    }
   ],
   "source": [
    "gr1 = WeightedGraph(8)\n",
    "gr1.add_edge(4,5,35)\n",
    "gr1.add_edge(4,7,37)\n",
    "gr1.add_edge(5,7,28)\n",
    "gr1.add_edge(0,7,16)\n",
    "gr1.add_edge(1,5,32)\n",
    "gr1.add_edge(0,4,38)\n",
    "gr1.add_edge(2,3,17)\n",
    "gr1.add_edge(1,7,19)\n",
    "gr1.add_edge(0,2,26)\n",
    "gr1.add_edge(1,2,36)\n",
    "gr1.add_edge(1,3,29)\n",
    "gr1.add_edge(2,7,34)\n",
    "gr1.add_edge(6,2,40)\n",
    "gr1.add_edge(3,6,52)\n",
    "gr1.add_edge(6,0,58)\n",
    "gr1.add_edge(6,4,93)\n",
    "\n",
    "gr1.show()"
   ]
  },
  {
   "cell_type": "code",
   "execution_count": 360,
   "metadata": {},
   "outputs": [
    {
     "name": "stdout",
     "output_type": "stream",
     "text": [
      "node: 0\n",
      "[(7, 16), (2, 26)]\n",
      "node: 1\n",
      "[(7, 19)]\n",
      "node: 2\n",
      "[(0, 26), (3, 17), (6, 40)]\n",
      "node: 3\n",
      "[(2, 17)]\n",
      "node: 4\n",
      "[(5, 35)]\n",
      "node: 5\n",
      "[(7, 28), (4, 35)]\n",
      "node: 6\n",
      "[(2, 40)]\n",
      "node: 7\n",
      "[(0, 16), (1, 19), (5, 28)]\n"
     ]
    }
   ],
   "source": [
    "def primsBasic(graph):\n",
    "\n",
    "    mst = WeightedGraph(graph.number_of_nodes()) #create new graph\n",
    "    pqueueEdge = list()\n",
    "    pqueueNode = list()\n",
    "    pqueue = list()\n",
    "    marked = set()\n",
    "    node = 0\n",
    "\n",
    "    # mst.show()\n",
    "\n",
    "    # print(pqueueNode, \" - \", pqueueEdge)\n",
    "    # print(pqueue)\n",
    "    # print(marked)\n",
    "    # print(node)\n",
    "\n",
    "    visit(graph, pqueueEdge, pqueueNode, pqueue, marked, mst, node)\n",
    "    # # pqueue.sort(key=lambda tup: tup[1])#sorts based on weights\n",
    "    # visit(graph, pqueueEdge, pqueueNode, pqueue, marked, mst, node+1)\n",
    "\n",
    "    # print(pqueueNode, \" - \", pqueueEdge)\n",
    "    # print(pqueue)\n",
    "    # print(marked)\n",
    "    # print(node)\n",
    "\n",
    "\n",
    "\n",
    "    #add current node parameter\n",
    "    while(len(pqueue)!= 0):\n",
    "        pqueue.sort(key=lambda tup: tup[2]) #sorts based on weights\n",
    "        minEdge = pqueue.pop(0)\n",
    "\n",
    "        if (minEdge[0] in marked and minEdge[1] in marked):\n",
    "            continue #this vertix is marked or the other one is\n",
    "        \n",
    "        mst.add_edge(minEdge[0],minEdge[1],minEdge[2]) #add connection to completed mst\n",
    "        if (minEdge[0] not in marked):\n",
    "            visit(graph, pqueueEdge, pqueueNode, pqueue, marked, mst, minEdge[0])\n",
    "        if (minEdge[1] not in marked):\n",
    "            visit(graph, pqueueEdge, pqueueNode, pqueue, marked, mst, minEdge[1])\n",
    "\n",
    "    return mst\n",
    "\n",
    "def findMin(list): #didnt use\n",
    "    minNum = 0\n",
    "    return minNum\n",
    "\n",
    "def visit(graph, pqueueEdge, pqueueNode, pqueue, marked, mst, node):\n",
    "    marked.add(node)\n",
    "    for x in graph.adjacent_nodes(node):\n",
    "        if x[0] not in marked:\n",
    "            pqueue.append((node,x[0],x[1]))\n",
    "            # pqueueEdge.append(x)\n",
    "            # pqueueNode.append(node)\n",
    "            # print(x)\n",
    "    \n",
    "mst = primsBasic(gr1)\n",
    "mst.show()"
   ]
  },
  {
   "cell_type": "markdown",
   "metadata": {},
   "source": [
    "For min heap: https://www.geeksforgeeks.org/prims-mst-for-adjacency-list-representation-greedy-algo-6/"
   ]
  }
 ],
 "metadata": {
  "interpreter": {
   "hash": "31f2aee4e71d21fbe5cf8b01ff0e069b9275f58929596ceb00d14d90e3e16cd6"
  },
  "kernelspec": {
   "display_name": "Python 3.8.9 64-bit",
   "language": "python",
   "name": "python3"
  },
  "language_info": {
   "codemirror_mode": {
    "name": "ipython",
    "version": 3
   },
   "file_extension": ".py",
   "mimetype": "text/x-python",
   "name": "python",
   "nbconvert_exporter": "python",
   "pygments_lexer": "ipython3",
   "version": "3.8.9"
  },
  "orig_nbformat": 4
 },
 "nbformat": 4,
 "nbformat_minor": 2
}
