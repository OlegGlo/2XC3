{
 "cells": [
  {
   "cell_type": "code",
   "execution_count": 16,
   "metadata": {},
   "outputs": [
    {
     "ename": "AttributeError",
     "evalue": "'WeightedGraph' object has no attribute 'show'",
     "output_type": "error",
     "traceback": [
      "\u001b[0;31m---------------------------------------------------------------------------\u001b[0m",
      "\u001b[0;31mAttributeError\u001b[0m                            Traceback (most recent call last)",
      "\u001b[1;32m/Users/olegglotov/Documents/MAC/Python/2XC3 - Pratice and Exp/mst.ipynb Cell 1'\u001b[0m in \u001b[0;36m<module>\u001b[0;34m\u001b[0m\n\u001b[1;32m      <a href='vscode-notebook-cell:/Users/olegglotov/Documents/MAC/Python/2XC3%20-%20Pratice%20and%20Exp/mst.ipynb#ch0000000?line=2'>3</a>\u001b[0m gr1 \u001b[39m=\u001b[39m WeightedGraph(\u001b[39m2\u001b[39m)\n\u001b[1;32m      <a href='vscode-notebook-cell:/Users/olegglotov/Documents/MAC/Python/2XC3%20-%20Pratice%20and%20Exp/mst.ipynb#ch0000000?line=3'>4</a>\u001b[0m gr1\u001b[39m.\u001b[39madd_edge(\u001b[39m0\u001b[39m,\u001b[39m1\u001b[39m,\u001b[39m20\u001b[39m)\n\u001b[0;32m----> <a href='vscode-notebook-cell:/Users/olegglotov/Documents/MAC/Python/2XC3%20-%20Pratice%20and%20Exp/mst.ipynb#ch0000000?line=6'>7</a>\u001b[0m gr1\u001b[39m.\u001b[39;49mshow(gr1)\n",
      "\u001b[0;31mAttributeError\u001b[0m: 'WeightedGraph' object has no attribute 'show'"
     ]
    }
   ],
   "source": [
    "from lab8.lab8 import WeightedGraph\n",
    "\n",
    "gr1 = WeightedGraph(2)\n",
    "gr1.add_edge(0,1,20)\n",
    "\n",
    "\n",
    "gr1.show(gr1)\n",
    "\n",
    "\n"
   ]
  }
 ],
 "metadata": {
  "interpreter": {
   "hash": "31f2aee4e71d21fbe5cf8b01ff0e069b9275f58929596ceb00d14d90e3e16cd6"
  },
  "kernelspec": {
   "display_name": "Python 3.8.9 64-bit",
   "language": "python",
   "name": "python3"
  },
  "language_info": {
   "codemirror_mode": {
    "name": "ipython",
    "version": 3
   },
   "file_extension": ".py",
   "mimetype": "text/x-python",
   "name": "python",
   "nbconvert_exporter": "python",
   "pygments_lexer": "ipython3",
   "version": "3.8.9"
  },
  "orig_nbformat": 4
 },
 "nbformat": 4,
 "nbformat_minor": 2
}
