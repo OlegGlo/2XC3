{
 "cells": [
  {
   "cell_type": "code",
   "execution_count": 8,
   "metadata": {},
   "outputs": [],
   "source": [
    "#Undirected graph using an adjacency list\n",
    "class WeightedGraph:\n",
    "\n",
    "    weightSet = {}\n",
    "\n",
    "    def __init__(self, n):\n",
    "\n",
    "        self.adj = {}\n",
    "        for i in range(n):\n",
    "            self.adj[i] = []\n",
    "\n",
    "    def are_connected(self, node1, node2):\n",
    "        for edge in self.adj[node1]:\n",
    "            if edge[0] == node2:\n",
    "                return True\n",
    "        return False\n",
    "\n",
    "    def adjacent_nodes(self, node):\n",
    "        return self.adj[node]\n",
    "\n",
    "    def add_node(self):\n",
    "        self.adj[len(self.adj)] = []\n",
    "\n",
    "    def add_edge(self, node1, node2, weight):\n",
    "        self.weightSet.add(weight) # Prevent equal weights\n",
    "        if weight not in self.weightSet:\n",
    "\n",
    "            if node1 not in self.adj[node2]:\n",
    "                self.adj[node1].append((node2, weight))\n",
    "                self.adj[node2].append((node1, weight))\n",
    "        else:\n",
    "            print(\"duplicate weights\")\n",
    "\n",
    "    def w(self, node1, node2):\n",
    "        for edge_info in self.adj[node1]:\n",
    "            if node2 == edge_info[0]:\n",
    "                return edge_info[1]\n",
    "\n",
    "    def number_of_nodes(self):\n",
    "        return len(self.adj)\n",
    "\n",
    "    def showWeights(self):\n",
    "        for x in self.weightSet:\n",
    "            print(x)\n",
    "\n",
    "    def show(self):\n",
    "        for i in range(len(self.adj)):\n",
    "            print(\"node:\", i)\n",
    "            print(self.adj[i])"
   ]
  },
  {
   "cell_type": "markdown",
   "metadata": {},
   "source": [
    "Testing:"
   ]
  },
  {
   "cell_type": "code",
   "execution_count": 18,
   "metadata": {},
   "outputs": [
    {
     "name": "stdout",
     "output_type": "stream",
     "text": [
      "node: 0\n",
      "[(1, 20)]\n",
      "node: 1\n",
      "[(0, 20), (2, 30)]\n",
      "node: 2\n",
      "[(1, 30), (3, 30)]\n",
      "node: 3\n",
      "[(2, 30)]\n"
     ]
    }
   ],
   "source": [
    "# from lab8.lab8 import WeightedGraph\n",
    "\n",
    "gr1 = WeightedGraph(4)\n",
    "gr1.add_edge(0,1,20)\n",
    "gr1.add_edge(1,2,30)\n",
    "gr1.add_edge(2,3,30)\n",
    "\n",
    "# print(gr1.are_connected(1,2))\n",
    "# print(gr1.adjacent_nodes(1))\n",
    "# print(gr1.w(1,2))\n",
    "# print(gr1.number_of_nodes())\n",
    "\n",
    "gr1.show()"
   ]
  },
  {
   "cell_type": "code",
   "execution_count": null,
   "metadata": {},
   "outputs": [],
   "source": []
  }
 ],
 "metadata": {
  "interpreter": {
   "hash": "31f2aee4e71d21fbe5cf8b01ff0e069b9275f58929596ceb00d14d90e3e16cd6"
  },
  "kernelspec": {
   "display_name": "Python 3.8.9 64-bit",
   "language": "python",
   "name": "python3"
  },
  "language_info": {
   "codemirror_mode": {
    "name": "ipython",
    "version": 3
   },
   "file_extension": ".py",
   "mimetype": "text/x-python",
   "name": "python",
   "nbconvert_exporter": "python",
   "pygments_lexer": "ipython3",
   "version": "3.8.9"
  },
  "orig_nbformat": 4
 },
 "nbformat": 4,
 "nbformat_minor": 2
}
