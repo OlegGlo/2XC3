{
 "cells": [
  {
   "cell_type": "code",
   "execution_count": 40,
   "metadata": {},
   "outputs": [],
   "source": [
    "def final_sort(L):\n",
    "\n",
    "    copy = final_sorting(L)\n",
    "    for i in range(len(L)):\n",
    "        L[i] = copy[i]\n",
    "\n",
    "def final_sorting(L):\n",
    "    if len(L) < 2:\n",
    "        return L\n",
    "    if len(L) < 10:\n",
    "        insertion_sort(L)\n",
    "        return L\n",
    "    else:\n",
    "        pivot = median(L[0],L[-1],L[int(len(L)/2)])\n",
    "    left, right = [], []\n",
    "    for num in L[1:]:\n",
    "        if num < pivot:\n",
    "            left.append(num)\n",
    "        else:\n",
    "            right.append(num)\n",
    "    return final_sorting(left) + [pivot] + final_sorting(right)\n",
    "\n",
    "def insertion_sort(L):\n",
    "    for i in range(1, len(L)):\n",
    "        insert_into(L, i)\n",
    "\n",
    "def insert_into(L, n):\n",
    "    i = n\n",
    "    while i > 0:\n",
    "        if L[i] < L[i-1]:\n",
    "            L[i], L[i-1] = L[i-1], L[i]\n",
    "        else:\n",
    "            return\n",
    "        i -= 1"
   ]
  },
  {
   "cell_type": "code",
   "execution_count": 41,
   "metadata": {},
   "outputs": [],
   "source": [
    "def biggest(a,b,c):\n",
    "    return bigger(a,bigger(b,c))\n",
    "\n",
    "def bigger(a,b):\n",
    "    if a > b:\n",
    "        return a\n",
    "    else:\n",
    "        return b\n",
    "\n",
    "def median(a,b,c):\n",
    "    x = biggest(a,b,c)\n",
    "    if x == a:\n",
    "        return bigger(b,c)\n",
    "    if x == b:\n",
    "        return bigger(a,c)\n",
    "    else:\n",
    "        return bigger(a,b)"
   ]
  },
  {
   "cell_type": "code",
   "execution_count": 42,
   "metadata": {},
   "outputs": [
    {
     "name": "stdout",
     "output_type": "stream",
     "text": [
      "9\n",
      "[1, 2, 5, 6, 8, 8, 9, 9, 10, 23, 43, 45, 54, 54, 56, 89, 234, 235, 341, 678, 765, 789, 24567]\n"
     ]
    }
   ],
   "source": [
    "\n",
    "array = [2312,6,10,5,2,8,10,341,23,234,56,1,235,789,54,24567,89,8,765,43,45,678,9]\n",
    "\n",
    "print(median(array[0],array[-1],array[int(len(array)/2)]))\n",
    "\n",
    "final_sort(array)\n",
    "\n",
    "print(array)"
   ]
  }
 ],
 "metadata": {
  "interpreter": {
   "hash": "31f2aee4e71d21fbe5cf8b01ff0e069b9275f58929596ceb00d14d90e3e16cd6"
  },
  "kernelspec": {
   "display_name": "Python 3.8.9 64-bit",
   "language": "python",
   "name": "python3"
  },
  "language_info": {
   "codemirror_mode": {
    "name": "ipython",
    "version": 3
   },
   "file_extension": ".py",
   "mimetype": "text/x-python",
   "name": "python",
   "nbconvert_exporter": "python",
   "pygments_lexer": "ipython3",
   "version": "3.8.9"
  },
  "orig_nbformat": 4
 },
 "nbformat": 4,
 "nbformat_minor": 2
}
