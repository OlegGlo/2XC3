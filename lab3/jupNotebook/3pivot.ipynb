{
 "cells": [
  {
   "cell_type": "code",
   "execution_count": 1,
   "metadata": {},
   "outputs": [],
   "source": [
    "def is_sorted(lst, key=lambda x: x):\n",
    "    for i, el in enumerate(lst[1:]):\n",
    "        if key(el) < key(lst[i]): # i is the index of the previous element\n",
    "            return False\n",
    "    return True"
   ]
  },
  {
   "cell_type": "code",
   "execution_count": 2,
   "metadata": {},
   "outputs": [],
   "source": [
    "import random\n",
    "\n",
    "def create_random_list(n):\n",
    "    L = []\n",
    "    for _ in range(n):\n",
    "        L.append(random.randint(1,n))\n",
    "    return L"
   ]
  },
  {
   "cell_type": "code",
   "execution_count": 3,
   "metadata": {},
   "outputs": [],
   "source": [
    "def tri_pivot_quicksort(L):\n",
    "    copy = quicksort_3pivot(L)\n",
    "    for i in range(len(L)):\n",
    "        L[i] = copy[i]\n",
    "\n",
    "\n",
    "def quicksort_3pivot(L):\n",
    "    if len(L) < 2:\n",
    "        return L\n",
    "    if len(L) == 2:\n",
    "        L.sort()\n",
    "        return L\n",
    "    temp = []\n",
    "    temp.append(L[0])\n",
    "    temp.append(L[1])\n",
    "    temp.append(L[-1])\n",
    "    temp.sort()\n",
    "    pivotL = temp[0]\n",
    "    pivotM = temp[1]\n",
    "    pivotR = temp[2]\n",
    "    \n",
    "    left, right, midL, midR = [], [], [], []\n",
    "    for num in L[2:-1]:\n",
    "        if num < pivotL:\n",
    "            left.append(num)\n",
    "        elif pivotL <= num and num <= pivotM:\n",
    "            midL.append(num)\n",
    "        elif pivotM <= num and num <= pivotR:\n",
    "            midR.append(num)\n",
    "        else:\n",
    "            right.append(num)\n",
    "        \n",
    "    final = quicksort_3pivot(left) + [pivotL] + quicksort_3pivot(midL) + [pivotM] + quicksort_3pivot(midR) + [pivotR] + quicksort_3pivot(right)\n",
    "    return final"
   ]
  },
  {
   "cell_type": "code",
   "execution_count": 4,
   "metadata": {},
   "outputs": [],
   "source": [
    "def timer(index):\n",
    "    if __name__ == '__main__':\n",
    "        import timeit\n",
    "        print(\"timing for {} runs\".format(index))\n",
    "        return timeit.repeat(\"tri_pivot_quicksort(array)\", setup=\"from __main__ import tri_pivot_quicksort, array\", repeat=1, number=1) #from 0 to 6"
   ]
  },
  {
   "cell_type": "code",
   "execution_count": 5,
   "metadata": {},
   "outputs": [],
   "source": [
    "def logtocsv(num,results):\n",
    "    with open('3pivot.csv', 'a') as f: #'w' for write, 'a' for append\n",
    "        f.write(str(num))\n",
    "        f.write(\",\")\n",
    "        f.write(str(results))\n",
    "        f.write('\\n')"
   ]
  },
  {
   "cell_type": "code",
   "execution_count": 6,
   "metadata": {},
   "outputs": [
    {
     "name": "stdout",
     "output_type": "stream",
     "text": [
      "timing for 10 runs\n",
      "timing for 10 runs\n",
      "timing for 10 runs\n",
      "timing for 10 runs\n",
      "timing for 10 runs\n",
      "timing for 100 runs\n",
      "timing for 100 runs\n",
      "timing for 100 runs\n",
      "timing for 100 runs\n",
      "timing for 100 runs\n",
      "timing for 1000 runs\n",
      "timing for 1000 runs\n",
      "timing for 1000 runs\n",
      "timing for 1000 runs\n",
      "timing for 1000 runs\n",
      "timing for 10000 runs\n",
      "timing for 10000 runs\n",
      "timing for 10000 runs\n",
      "timing for 10000 runs\n",
      "timing for 10000 runs\n",
      "timing for 100000 runs\n",
      "timing for 100000 runs\n",
      "timing for 100000 runs\n",
      "timing for 100000 runs\n",
      "timing for 100000 runs\n",
      "timing for 1000000 runs\n",
      "timing for 1000000 runs\n",
      "timing for 1000000 runs\n",
      "timing for 1000000 runs\n",
      "timing for 1000000 runs\n"
     ]
    }
   ],
   "source": [
    "i = 10\n",
    "\n",
    "while (i < 1000001):\n",
    "    for x in range(5):\n",
    "        testarray = create_random_list(i) \n",
    "        array = testarray.copy()\n",
    "        logtocsv(i, timer(i)[0])\n",
    "\n",
    "    i *= 10"
   ]
  }
 ],
 "metadata": {
  "interpreter": {
   "hash": "31f2aee4e71d21fbe5cf8b01ff0e069b9275f58929596ceb00d14d90e3e16cd6"
  },
  "kernelspec": {
   "display_name": "Python 3.8.9 64-bit",
   "language": "python",
   "name": "python3"
  },
  "language_info": {
   "codemirror_mode": {
    "name": "ipython",
    "version": 3
   },
   "file_extension": ".py",
   "mimetype": "text/x-python",
   "name": "python",
   "nbconvert_exporter": "python",
   "pygments_lexer": "ipython3",
   "version": "3.8.9"
  },
  "orig_nbformat": 4
 },
 "nbformat": 4,
 "nbformat_minor": 2
}
