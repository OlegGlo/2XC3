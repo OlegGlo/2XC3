{
 "cells": [
  {
   "cell_type": "code",
   "execution_count": 65,
   "metadata": {},
   "outputs": [],
   "source": [
    "def is_sorted(lst, key=lambda x: x):\n",
    "    for i, el in enumerate(lst[1:]):\n",
    "        if key(el) < key(lst[i]): # i is the index of the previous element\n",
    "            return False\n",
    "    return True"
   ]
  },
  {
   "cell_type": "code",
   "execution_count": 66,
   "metadata": {},
   "outputs": [],
   "source": [
    "import random\n",
    "\n",
    "def create_random_list(n):\n",
    "    L = []\n",
    "    for _ in range(n):\n",
    "        L.append(random.randint(1,n))\n",
    "    return L"
   ]
  },
  {
   "cell_type": "code",
   "execution_count": 67,
   "metadata": {},
   "outputs": [],
   "source": [
    "def my_quicksort(L):\n",
    "    copy = quicksort_copy(L)\n",
    "    for i in range(len(L)):\n",
    "        L[i] = copy[i]\n",
    "\n",
    "\n",
    "def quicksort_copy(L):\n",
    "    if len(L) < 2:\n",
    "        return L\n",
    "    pivot = L[0]\n",
    "    left, right = [], []\n",
    "    for num in L[1:]:\n",
    "        if num < pivot:\n",
    "            left.append(num)\n",
    "        else:\n",
    "            right.append(num)\n",
    "        \n",
    "    final = quicksort_copy(left) + [pivot] + quicksort_copy(right)\n",
    "    return final"
   ]
  },
  {
   "cell_type": "code",
   "execution_count": 68,
   "metadata": {},
   "outputs": [],
   "source": [
    "# print(create_near_sorted_list(10,2))\n",
    "\n",
    "# array = [3,5,1]\n",
    "# array2 = [2,4]\n",
    "# array3 = array + array2\n",
    "\n",
    "# my_quicksort(array3)\n",
    "\n",
    "# print(array3)"
   ]
  },
  {
   "cell_type": "code",
   "execution_count": 69,
   "metadata": {},
   "outputs": [],
   "source": [
    "def my_quicksort2(L):\n",
    "    copy = quicksort_2pivot(L)\n",
    "    for i in range(len(L)):\n",
    "        L[i] = copy[i]\n",
    "\n",
    "\n",
    "def quicksort_2pivot(L):\n",
    "    if len(L) < 2:\n",
    "        return L\n",
    "    pivotL = L[0]\n",
    "    pivotR = L[-1]\n",
    "    if (pivotL >= pivotR):\n",
    "        temp = pivotL\n",
    "        pivotL = pivotR\n",
    "        pivotR = temp\n",
    "    left, right, mid = [], [], []\n",
    "    for num in L[1:-1]:\n",
    "        if num < pivotL:\n",
    "            left.append(num)\n",
    "        elif pivotL <= num and num <= pivotR:\n",
    "            mid.append(num)\n",
    "        else:\n",
    "            right.append(num)\n",
    "        \n",
    "    final = quicksort_2pivot(left) + [pivotL] + quicksort_2pivot(mid) + [pivotR] + quicksort_2pivot(right)\n",
    "    return final"
   ]
  },
  {
   "cell_type": "code",
   "execution_count": 70,
   "metadata": {},
   "outputs": [],
   "source": [
    "# print(create_near_sorted_list(10,2))\n",
    "\n",
    "# array = [42,8,38]\n",
    "# array2 = []\n",
    "# array3 = array + array2\n",
    "\n",
    "# print(array3)\n",
    "\n",
    "# my_quicksort2(array3)\n",
    "\n",
    "# print(array3)"
   ]
  },
  {
   "cell_type": "code",
   "execution_count": 71,
   "metadata": {},
   "outputs": [],
   "source": [
    "def my_quicksort3(L):\n",
    "    copy = quicksort_3pivot(L)\n",
    "    for i in range(len(L)):\n",
    "        L[i] = copy[i]\n",
    "\n",
    "\n",
    "def quicksort_3pivot(L):\n",
    "    if len(L) < 2:\n",
    "        return L\n",
    "    if len(L) == 2:\n",
    "        L.sort()\n",
    "        return L\n",
    "    temp = []\n",
    "    temp.append(L[0])\n",
    "    temp.append(L[1])\n",
    "    temp.append(L[-1])\n",
    "    temp.sort()\n",
    "    pivotL = temp[0]\n",
    "    pivotM = temp[1]\n",
    "    pivotR = temp[2]\n",
    "    \n",
    "    left, right, midL, midR = [], [], [], []\n",
    "    for num in L[2:-1]:\n",
    "        if num < pivotL:\n",
    "            left.append(num)\n",
    "        elif pivotL <= num and num <= pivotM:\n",
    "            midL.append(num)\n",
    "        elif pivotM <= num and num <= pivotR:\n",
    "            midR.append(num)\n",
    "        else:\n",
    "            right.append(num)\n",
    "        \n",
    "    final = quicksort_3pivot(left) + [pivotL] + quicksort_3pivot(midL) + [pivotM] + quicksort_3pivot(midR) + [pivotR] + quicksort_3pivot(right)\n",
    "    return final"
   ]
  },
  {
   "cell_type": "code",
   "execution_count": 72,
   "metadata": {},
   "outputs": [],
   "source": [
    "def my_quicksort4(L):\n",
    "    copy = quicksort_4pivot(L)\n",
    "    for i in range(len(L)):\n",
    "        L[i] = copy[i]\n",
    "\n",
    "\n",
    "def quicksort_4pivot(L):\n",
    "    if len(L) < 2:\n",
    "        return L\n",
    "    if len(L) < 4:\n",
    "        L.sort()\n",
    "        return L\n",
    "    temp = []\n",
    "    temp.append(L[0])\n",
    "    temp.append(L[1])\n",
    "    temp.append(L[-2])\n",
    "    temp.append(L[-1])\n",
    "    temp.sort()\n",
    "    pivotL = temp[0]\n",
    "    pivotML = temp[1]\n",
    "    pivotMR = temp[2]\n",
    "    pivotR = temp[3]\n",
    "    \n",
    "    left, right, midL, midM, midR = [], [], [], [], []\n",
    "    for num in L[2:-2]:\n",
    "        if num < pivotL:\n",
    "            left.append(num)\n",
    "        elif pivotL <= num and num <= pivotML:\n",
    "            midL.append(num)\n",
    "        elif pivotML <= num and num <= pivotMR:\n",
    "            midM.append(num)\n",
    "        elif pivotMR <= num and num <= pivotR:\n",
    "            midR.append(num)\n",
    "        else:\n",
    "            right.append(num)\n",
    "        \n",
    "    final = quicksort_4pivot(left) + [pivotL] + quicksort_4pivot(midL) + [pivotML] + quicksort_4pivot(midM) + [pivotMR] + quicksort_4pivot(midR) + [pivotR] + quicksort_4pivot(right)\n",
    "    return final"
   ]
  },
  {
   "cell_type": "code",
   "execution_count": 73,
   "metadata": {},
   "outputs": [],
   "source": [
    "array = create_random_list(10)\n",
    "\n",
    "array1 = array.copy()\n",
    "\n",
    "# print(array1)\n"
   ]
  },
  {
   "cell_type": "code",
   "execution_count": 74,
   "metadata": {},
   "outputs": [
    {
     "name": "stdout",
     "output_type": "stream",
     "text": [
      "False\n",
      "[5, 7, 2, 10, 5, 4, 5, 4, 6, 3]\n",
      "318 µs ± 0 ns per loop (mean ± std. dev. of 1 run, 1 loop each)\n",
      "True\n",
      "False\n",
      "[5, 7, 2, 10, 5, 4, 5, 4, 6, 3]\n",
      "137 µs ± 0 ns per loop (mean ± std. dev. of 1 run, 1 loop each)\n",
      "True\n"
     ]
    }
   ],
   "source": [
    "print(is_sorted(array1))\n",
    "%timeit -n 1 -r 1 my_quicksort4(array1)\n",
    "print(is_sorted(array1))\n",
    "\n",
    "array1 = array.copy()\n",
    "\n",
    "print(is_sorted(array1))\n",
    "%timeit -n 1 -r 1 my_quicksort4(array1)\n",
    "print(is_sorted(array1))\n",
    "\n",
    "\n",
    "# THIS THING RUNS ON SORTED ARRAYS AFTER FIRST ITERATION"
   ]
  },
  {
   "cell_type": "markdown",
   "metadata": {},
   "source": []
  },
  {
   "cell_type": "code",
   "execution_count": 75,
   "metadata": {},
   "outputs": [],
   "source": [
    "# array = [7,4,19,2,6,10,1,18,13,11,14]\n",
    "\n",
    "# my_quicksort3(array)\n",
    "\n",
    "# print(array)\n",
    "\n",
    "# 1, 2, 4, 7, 10, 11, 13, 14, 18, 19\n",
    "\n",
    "\n",
    "# array = [7,4,19,2,6,10,1,18,13,11,14]\n",
    "# %timeit my_quicksort(array)\n",
    "# array = [7,4,19,2,6,10,1,18,13,11,14]\n",
    "# %timeit my_quicksort2(array)\n",
    "# array = [7,4,19,2,6,10,1,18,13,11,14]\n",
    "# %timeit my_quicksort3(array)\n",
    "# array = [7,4,19,2,6,10,1,18,13,11,14]\n",
    "# %timeit my_quicksort4(array)\n",
    "\n"
   ]
  }
 ],
 "metadata": {
  "interpreter": {
   "hash": "31f2aee4e71d21fbe5cf8b01ff0e069b9275f58929596ceb00d14d90e3e16cd6"
  },
  "kernelspec": {
   "display_name": "Python 3.8.9 64-bit",
   "language": "python",
   "name": "python3"
  },
  "language_info": {
   "codemirror_mode": {
    "name": "ipython",
    "version": 3
   },
   "file_extension": ".py",
   "mimetype": "text/x-python",
   "name": "python",
   "nbconvert_exporter": "python",
   "pygments_lexer": "ipython3",
   "version": "3.8.3"
  },
  "orig_nbformat": 4
 },
 "nbformat": 4,
 "nbformat_minor": 2
}
