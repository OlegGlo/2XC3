{
 "cells": [
  {
   "cell_type": "code",
   "execution_count": 16,
   "metadata": {},
   "outputs": [],
   "source": [
    "def final_sort(L):\n",
    "\n",
    "    copy = final_sorting(L)\n",
    "    for i in range(len(L)):\n",
    "        L[i] = copy[i]\n",
    "\n",
    "def final_sorting(L):\n",
    "    if len(L) < 2:\n",
    "        return L\n",
    "    if len(L) < 10:\n",
    "        insertion_sort(L)\n",
    "        return L\n",
    "    else:\n",
    "        pivot = median(array[0],array[-1],array[int(len(array)/2)])\n",
    "    left, right = [], []\n",
    "    for num in L[1:]:\n",
    "        if num < pivot:\n",
    "            left.append(num)\n",
    "        else:\n",
    "            right.append(num)\n",
    "    return final_sorting(left) + [pivot] + final_sorting(right)\n",
    "\n",
    "def insertion_sort(L):\n",
    "    for i in range(1, len(L)):\n",
    "        insert_into(L, i)\n",
    "\n",
    "def insert_into(L, n):\n",
    "    i = n\n",
    "    while i > 0:\n",
    "        if L[i] < L[i-1]:\n",
    "            L[i], L[i-1] = L[i-1], L[i]\n",
    "        else:\n",
    "            return\n",
    "        i -= 1"
   ]
  },
  {
   "cell_type": "code",
   "execution_count": 17,
   "metadata": {},
   "outputs": [],
   "source": [
    "def biggest(a,b,c):\n",
    "    return bigger(a,bigger(b,c))\n",
    "\n",
    "def bigger(a,b):\n",
    "    if a > b:\n",
    "        return a\n",
    "    else:\n",
    "        return b\n",
    "\n",
    "def median(a,b,c):\n",
    "    x = biggest(a,b,c)\n",
    "    if x == a:\n",
    "        return bigger(b,c)\n",
    "    if x == b:\n",
    "        return bigger(a,c)\n",
    "    else:\n",
    "        return bigger(a,b)"
   ]
  },
  {
   "cell_type": "code",
   "execution_count": 28,
   "metadata": {},
   "outputs": [
    {
     "name": "stdout",
     "output_type": "stream",
     "text": [
      "4\n",
      "[2, 4, 5, 6, 8, 10, 10, 23, 341]\n"
     ]
    }
   ],
   "source": [
    "\n",
    "array = [4,6,10,5,2,8,10,341,23]\n",
    "\n",
    "print(median(array[0],array[-1],array[int(len(array)/2)]))\n",
    "\n",
    "final_sort(array)\n",
    "\n",
    "print(array)"
   ]
  }
 ],
 "metadata": {
  "interpreter": {
   "hash": "31f2aee4e71d21fbe5cf8b01ff0e069b9275f58929596ceb00d14d90e3e16cd6"
  },
  "kernelspec": {
   "display_name": "Python 3.8.9 64-bit",
   "language": "python",
   "name": "python3"
  },
  "language_info": {
   "codemirror_mode": {
    "name": "ipython",
    "version": 3
   },
   "file_extension": ".py",
   "mimetype": "text/x-python",
   "name": "python",
   "nbconvert_exporter": "python",
   "pygments_lexer": "ipython3",
   "version": "3.8.9"
  },
  "orig_nbformat": 4
 },
 "nbformat": 4,
 "nbformat_minor": 2
}
