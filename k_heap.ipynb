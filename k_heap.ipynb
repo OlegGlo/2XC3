{
 "cells": [
  {
   "cell_type": "code",
   "execution_count": 10,
   "metadata": {},
   "outputs": [],
   "source": [
    "import math\n",
    "\n",
    "class Heap:\n",
    "    length = 0\n",
    "    data = []\n",
    "\n",
    "    def __init__(self, L, k):\n",
    "        self.k_value = k\n",
    "        self.data = L\n",
    "        self.length = len(L)\n",
    "        self.build_heap(self.data)\n",
    "\n",
    "    def build_heap(self,values):\n",
    "        for i in range(self.length // self.k_value - 1, -1, -1): \n",
    "            # print(i)\n",
    "            self.sink(i)\n",
    "\n",
    "    def parent(self,i):\n",
    "        return (i - 1) // self.k_value\n",
    "\n",
    "    def children(self,i):\n",
    "        childlist = []\n",
    "        for indices in range(1,self.k_value+1):\n",
    "            childlist.append((self.k_value * i) + indices)\n",
    "        return childlist\n",
    "\n",
    "    def sink(self, i):\n",
    "        largest_known = i\n",
    "        for indices in range(len(self.children(i))):\n",
    "            # print(self.children(i))\n",
    "            if self.children(i)[indices] < self.length and self.data[self.children(i)[indices]] > self.data[i]:\n",
    "                if (self.data[self.children(i)[indices]] > self.data[largest_known]):\n",
    "                    largest_known = self.children(i)[indices]\n",
    "        if largest_known != i:\n",
    "            self.data[i], self.data[largest_known] = self.data[largest_known], self.data[i]\n",
    "            self.sink(largest_known)\n",
    "    \n",
    "    def output(self):\n",
    "        print(self.data)\n",
    "\n",
    "    def __str__(self):\n",
    "        self.output()\n",
    "        # height = math.ceil(math.log(self.length + 1, 2))\n",
    "        # whitespace = 2 ** height\n",
    "        # s = \"\"\n",
    "        # for i in range(height):\n",
    "        #     for j in range(2 ** i - 1, min(2 ** (i + 1) - 1, self.length)):\n",
    "        #         s += \" \" * whitespace\n",
    "        #         s += str(self.data[j]) + \" \"\n",
    "        #     s += \"\\n\"\n",
    "        #     whitespace = whitespace // 2\n",
    "        # return s"
   ]
  },
  {
   "cell_type": "code",
   "execution_count": 11,
   "metadata": {},
   "outputs": [
    {
     "name": "stdout",
     "output_type": "stream",
     "text": [
      "[1, 2, 3, 4, 5, 6, 7, 8, 9, 10, 11, 12, 13, 14, 15]\n",
      "[15, 11, 14, 4, 5, 6, 7, 8, 9, 10, 2, 12, 13, 1, 3]\n",
      "                15 \n",
      "        11         14 \n",
      "    4     5     6     7 \n",
      "  8   9   10   2   12   13   1   3 \n",
      "\n"
     ]
    }
   ],
   "source": [
    "array = [1,2,3,4,5,6,7,8,9,10,11,12,13,14,15]\n",
    "print(array)\n",
    "\n",
    "h = Heap(array,5)\n",
    "\n",
    "print(h)"
   ]
  }
 ],
 "metadata": {
  "interpreter": {
   "hash": "31f2aee4e71d21fbe5cf8b01ff0e069b9275f58929596ceb00d14d90e3e16cd6"
  },
  "kernelspec": {
   "display_name": "Python 3.8.9 64-bit",
   "language": "python",
   "name": "python3"
  },
  "language_info": {
   "codemirror_mode": {
    "name": "ipython",
    "version": 3
   },
   "file_extension": ".py",
   "mimetype": "text/x-python",
   "name": "python",
   "nbconvert_exporter": "python",
   "pygments_lexer": "ipython3",
   "version": "3.8.9"
  },
  "orig_nbformat": 4
 },
 "nbformat": 4,
 "nbformat_minor": 2
}
