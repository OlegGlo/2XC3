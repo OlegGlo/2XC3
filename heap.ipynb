{
 "cells": [
  {
   "cell_type": "code",
   "execution_count": 95,
   "metadata": {},
   "outputs": [],
   "source": [
    "import math\n",
    "\n",
    "class Heap:\n",
    "    length = 0\n",
    "    data = []\n",
    "\n",
    "    def __init__(self, L):\n",
    "        self.data = L\n",
    "        self.length = len(L)\n",
    "        self.build_heap1()\n",
    "        # self.build_heap2()\n",
    "        # self.build_heap3()\n",
    "\n",
    "    def build_heap1(self):\n",
    "        for i in range(self.length // 2 - 1, -1, -1): \n",
    "            self.sink(i)\n",
    "\n",
    "    def build_heap2(self):\n",
    "        return\n",
    "        #todo\n",
    "\n",
    "    def build_heap3(self):\n",
    "        return\n",
    "        #todo\n",
    "\n",
    "    def sink(self, i):\n",
    "        largest_known = i\n",
    "        if self.left(i) < self.length and self.data[self.left(i)] > self.data[i]:\n",
    "            print(self.left(i))\n",
    "            largest_known = self.left(i)\n",
    "        if self.right(i) < self.length and self.data[self.right(i)] > self.data[largest_known]:\n",
    "            print(self.right(i))\n",
    "            largest_known = self.right(i)\n",
    "        if largest_known != i:\n",
    "            self.data[i], self.data[largest_known] = self.data[largest_known], self.data[i]\n",
    "            self.sink(largest_known)\n",
    "\n",
    "    def insert(self, value):\n",
    "        if len(self.data) == self.length:\n",
    "            self.data.append(value)\n",
    "        else:\n",
    "            self.data[self.length] = value\n",
    "        self.length += 1\n",
    "        self.bubble_up(self.length - 1)\n",
    "\n",
    "    def insert_values(self, L):\n",
    "        for num in L:\n",
    "            self.insert(num)\n",
    "\n",
    "    def bubble_up(self, i):\n",
    "        while i > 0 and self.data[i] > self.data[self.parent(i)]:\n",
    "            self.data[i], self.data[self.parent(i)] = self.data[self.parent(i)], self.data[i]\n",
    "            i = self.parent(i)\n",
    "\n",
    "    def extract_max(self):\n",
    "        self.data[0], self.data[self.length - 1] = self.data[self.length - 1], self.data[0]\n",
    "        max_value = self.data[self.length - 1]\n",
    "        self.length -= 1\n",
    "        self.sink(0)\n",
    "        return max_value\n",
    "\n",
    "    def left(self, i):\n",
    "        # return 2 * (i + 1) - 1\n",
    "        return 2 * i + 1\n",
    "\n",
    "    def right(self, i):\n",
    "        # return 2 * (i + 1)\n",
    "        return 2 * i + 2\n",
    "\n",
    "    def parent(self, i):\n",
    "        return (i + 1) // 2 - 1\n",
    "\n",
    "    def __str__(self):\n",
    "        height = math.ceil(math.log(self.length + 1, 2))\n",
    "        whitespace = 2 ** height\n",
    "        s = \"\"\n",
    "        for i in range(height):\n",
    "            for j in range(2 ** i - 1, min(2 ** (i + 1) - 1, self.length)):\n",
    "                s += \" \" * whitespace\n",
    "                s += str(self.data[j]) + \" \"\n",
    "            s += \"\\n\"\n",
    "            whitespace = whitespace // 2\n",
    "        return s\n",
    "\n"
   ]
  },
  {
   "cell_type": "code",
   "execution_count": 98,
   "metadata": {},
   "outputs": [
    {
     "name": "stdout",
     "output_type": "stream",
     "text": [
      "1\n",
      "2\n"
     ]
    }
   ],
   "source": [
    "array = [1,2,3,4,5]\n",
    "array = [5,4,3,2,1]\n",
    "array = [2,4,5,1,3]\n",
    "\n",
    "h = Heap(array)\n",
    "\n",
    "# print(len(array))\n",
    "print(h)\n",
    "print(\"done\")"
   ]
  },
  {
   "cell_type": "code",
   "execution_count": 97,
   "metadata": {},
   "outputs": [
    {
     "name": "stdout",
     "output_type": "stream",
     "text": [
      "-\n",
      "2\n",
      "-\n",
      "1\n",
      "0\n"
     ]
    }
   ],
   "source": [
    "length = 5\n",
    "\n",
    "val = length // 2\n",
    "\n",
    "print(\"-\")\n",
    "print(val)\n",
    "print(\"-\")\n",
    "\n",
    "for i in range(length // 2 - 1, -1, -1): \n",
    "    print(i)"
   ]
  }
 ],
 "metadata": {
  "interpreter": {
   "hash": "31f2aee4e71d21fbe5cf8b01ff0e069b9275f58929596ceb00d14d90e3e16cd6"
  },
  "kernelspec": {
   "display_name": "Python 3.8.9 64-bit",
   "language": "python",
   "name": "python3"
  },
  "language_info": {
   "codemirror_mode": {
    "name": "ipython",
    "version": 3
   },
   "file_extension": ".py",
   "mimetype": "text/x-python",
   "name": "python",
   "nbconvert_exporter": "python",
   "pygments_lexer": "ipython3",
   "version": "3.8.9"
  },
  "orig_nbformat": 4
 },
 "nbformat": 4,
 "nbformat_minor": 2
}
