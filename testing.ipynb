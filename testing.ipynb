{
 "cells": [
  {
   "cell_type": "markdown",
   "metadata": {},
   "source": [
    "Actual work"
   ]
  },
  {
   "cell_type": "code",
   "execution_count": 543,
   "metadata": {},
   "outputs": [],
   "source": [
    "collection = []\n",
    "sizeOfColl = []\n",
    "\n",
    "def ArrayGen():\n",
    "\n",
    "    i = 1\n",
    "    while (i < 1000001):\n",
    "        array = [random.randint(0,100) for x in range(i)]\n",
    "        collection.append(array)\n",
    "        i *= 10\n",
    "\n",
    "    # for size in range(0, 1000001, 100000):\n",
    "    #     array = [random.randint(0,100) for x in range(size)]\n",
    "    #     collection.append(array)\n",
    "    #     sizeOfColl.append(size)\n",
    "    \n",
    "ArrayGen()"
   ]
  },
  {
   "cell_type": "code",
   "execution_count": 544,
   "metadata": {},
   "outputs": [],
   "source": [
    "def Average(lst):\n",
    "    return sum(lst) / len(lst)"
   ]
  },
  {
   "cell_type": "code",
   "execution_count": 545,
   "metadata": {},
   "outputs": [],
   "source": [
    "def copy(array):\n",
    "\n",
    "    arrCpy = array.copy()\n",
    "\n",
    "    return arrCpy"
   ]
  },
  {
   "cell_type": "code",
   "execution_count": 546,
   "metadata": {},
   "outputs": [],
   "source": [
    "def timer():\n",
    "    if __name__ == '__main__':\n",
    "        import timeit\n",
    "        print(\"timing\")\n",
    "        return timeit.repeat(\"copy(collection[6])\", setup=\"from __main__ import copy, collection\", repeat=100, number=100) #from 0 to 6"
   ]
  },
  {
   "cell_type": "code",
   "execution_count": 547,
   "metadata": {},
   "outputs": [
    {
     "name": "stdout",
     "output_type": "stream",
     "text": [
      "timing\n",
      "Total results  [0.38595767600054387, 0.37400661900028354, 0.34864783200100646, 0.355118946001312, 0.35005315100352163, 0.3532510449986148, 0.34670740400179056, 0.34658924500035937, 0.3447164650024206, 0.350796275997709, 0.3464230050012702, 0.3696541899989825, 0.3577938999987964, 0.36029131800023606, 0.3540067080029985, 0.356579381001211, 0.353408502000093, 0.357296537997172, 0.35791412700200453, 0.36035781799728284, 0.36018424199937726, 0.3583416440014844, 0.36092642299990985, 0.35271467300117365, 0.36071191299924976, 0.3491422139995848, 0.3520802469975024, 0.348892738998984, 0.3492730100006156, 0.34970199699819204, 0.34631176100083394, 0.3505093139974633, 0.34758666600100696, 0.35408292099964456, 0.34482065200063516, 0.37328911799704656, 0.34704455599785433, 0.348231902000407, 0.3492405120014155, 0.3561213829998451, 0.34751003100245725, 0.3460198870016029, 0.34486620500319987, 0.34822531800091383, 0.34908358300162945, 0.3495313500025077, 0.34934912999960943, 0.3577322079981968, 0.34510839600261534, 0.38615286799904425, 0.4001464009998017, 0.3712392310007999, 0.3859046600009606, 0.39758507900114637, 0.35341133499969146, 0.35147932799736736, 0.3460979600022256, 0.3665114879986504, 0.3545972690008057, 0.3455683769971074, 0.3473907860025065, 0.34905827500188025, 0.3445060320009361, 0.3546992500014312, 0.34806878899689764, 0.3458661420008866, 0.34621383500052616, 0.3572515599989856, 0.35157937499752734, 0.3574304719986685, 0.3474608319993422, 0.3491938340011984, 0.3453526459998102, 0.3512520650001534, 0.34987738900235854, 0.35287733799850685, 0.3714762019990303, 0.35431528499975684, 0.35708971400163136, 0.3403073580011551, 0.36688900499939336, 0.38382179099789937, 0.353316882999934, 0.34981310199873406, 0.34821386999828974, 0.35013190799872973, 0.3498725249992276, 0.34814579999874695, 0.3438676010009658, 0.34855072000209475, 0.3451859640008479, 0.35756062400105293, 0.3528852769995865, 0.34824648599897046, 0.3496673320005357, 0.34887093500219635, 0.36323327900026925, 0.3520567519990436, 0.3510557939989667, 0.3498762050003279]\n",
      "Average over the results  0.3546742716900917\n"
     ]
    }
   ],
   "source": [
    "results = timer() #send string\n",
    "print(\"Total results \",results)\n",
    "print(\"Average over the results \",Average(results))\n",
    "\n"
   ]
  },
  {
   "cell_type": "code",
   "execution_count": 548,
   "metadata": {},
   "outputs": [],
   "source": [
    "def logtocsv():\n",
    "    with open('test.csv', 'a') as f: #'w' for write, 'a' for append\n",
    "        f.write(\"1000000\")\n",
    "        f.write(\",\")\n",
    "        f.write(str(Average(results)))\n",
    "        f.write('\\n')\n",
    "\n",
    "logtocsv()"
   ]
  }
 ],
 "metadata": {
  "interpreter": {
   "hash": "31f2aee4e71d21fbe5cf8b01ff0e069b9275f58929596ceb00d14d90e3e16cd6"
  },
  "kernelspec": {
   "display_name": "Python 3.8.9 64-bit",
   "language": "python",
   "name": "python3"
  },
  "language_info": {
   "codemirror_mode": {
    "name": "ipython",
    "version": 3
   },
   "file_extension": ".py",
   "mimetype": "text/x-python",
   "name": "python",
   "nbconvert_exporter": "python",
   "pygments_lexer": "ipython3",
   "version": "3.8.9"
  },
  "orig_nbformat": 4
 },
 "nbformat": 4,
 "nbformat_minor": 2
}
