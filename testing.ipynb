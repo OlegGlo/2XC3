{
 "cells": [
  {
   "cell_type": "markdown",
   "metadata": {},
   "source": [
    "Copy method"
   ]
  },
  {
   "cell_type": "code",
   "execution_count": 8,
   "metadata": {},
   "outputs": [],
   "source": [
    "import random\n",
    "\n",
    "collection = []\n",
    "sizeOfColl = []\n",
    "\n",
    "def ArrayGen():\n",
    "\n",
    "    i = 1\n",
    "    while (i < 1000001):\n",
    "        array = [random.randint(0,100) for x in range(i)]\n",
    "        collection.append(array)\n",
    "        i *= 10\n",
    "\n",
    "    # for size in range(0, 1000001, 100000):\n",
    "    #     array = [random.randint(0,100) for x in range(size)]\n",
    "    #     collection.append(array)\n",
    "    #     sizeOfColl.append(size)\n",
    "    \n",
    "ArrayGen()"
   ]
  },
  {
   "cell_type": "code",
   "execution_count": 9,
   "metadata": {},
   "outputs": [],
   "source": [
    "def Average(lst):\n",
    "    return sum(lst) / len(lst)"
   ]
  },
  {
   "cell_type": "code",
   "execution_count": 10,
   "metadata": {},
   "outputs": [],
   "source": [
    "def copy(array):\n",
    "\n",
    "    arrCpy = array.copy()\n",
    "\n",
    "    return arrCpy"
   ]
  },
  {
   "cell_type": "code",
   "execution_count": 11,
   "metadata": {},
   "outputs": [],
   "source": [
    "def timer():\n",
    "    if __name__ == '__main__':\n",
    "        import timeit\n",
    "        print(\"timing\")\n",
    "        return timeit.repeat(\"copy(collection[1])\", setup=\"from __main__ import copy, collection\", repeat=100, number=100) #from 0 to 6"
   ]
  },
  {
   "cell_type": "code",
   "execution_count": 12,
   "metadata": {},
   "outputs": [
    {
     "name": "stdout",
     "output_type": "stream",
     "text": [
      "timing\n",
      "Total results  [2.1947000000466232e-05, 2.058800000526162e-05, 2.030999999647065e-05, 2.0438999996486018e-05, 2.031600000407252e-05, 2.0374000001766035e-05, 2.0296000002417713e-05, 2.0313000000271586e-05, 2.0419000001936638e-05, 2.0432999995989576e-05, 2.065399999651163e-05, 2.0382999998957985e-05, 2.03359999986219e-05, 2.0363000004408605e-05, 2.0293999995146805e-05, 2.0334000005561848e-05, 2.0458999998140825e-05, 2.045300000474981e-05, 2.042700000259856e-05, 2.037299999813058e-05, 2.03530000035812e-05, 2.0319000000768028e-05, 2.029299999861678e-05, 2.0456999997975345e-05, 2.033799999878738e-05, 2.0298000002583194e-05, 2.0259000002909033e-05, 2.0274000000597425e-05, 2.037499999829606e-05, 2.0614000000307442e-05, 2.0311999996636132e-05, 2.0339999998952862e-05, 2.007700000206114e-05, 2.0237000001088745e-05, 2.0365000004574085e-05, 2.0394000003420842e-05, 2.0302999999444182e-05, 2.0403000000612792e-05, 2.0317000000602548e-05, 2.036899999779962e-05, 2.0337000002257355e-05, 2.037500000540149e-05, 2.0311000000106105e-05, 2.025100000224711e-05, 2.0322000004568963e-05, 2.046200000194176e-05, 2.0339999998952862e-05, 2.0408000004579208e-05, 2.0345999999449305e-05, 2.0311000000106105e-05, 2.0386999999288946e-05, 2.0445000004087888e-05, 2.046000000177628e-05, 2.0411000001274715e-05, 2.0300000002748675e-05, 2.0345000002919278e-05, 2.0315000000437067e-05, 2.0286999998120336e-05, 2.04059999973083e-05, 2.0351999999945747e-05, 2.0435000003260484e-05, 2.034299999564837e-05, 2.0251999998777137e-05, 2.0399999996811857e-05, 2.0354999996641254e-05, 2.0264999996300048e-05, 2.03880000029244e-05, 2.025799999927358e-05, 2.033199999829094e-05, 2.0319999997298055e-05, 2.0321999997463536e-05, 2.0311000000106105e-05, 2.026699999646553e-05, 2.034700000308476e-05, 2.0403000000612792e-05, 2.0378999998627023e-05, 2.0564999999805877e-05, 2.0397999996646377e-05, 2.0215999995798484e-05, 2.055199999517754e-05, 2.035600000027671e-05, 2.0331000001760913e-05, 2.0456000001445318e-05, 2.0403000000612792e-05, 2.022500000009586e-05, 2.0380000002262477e-05, 2.0300000002748675e-05, 2.032300000109899e-05, 2.0261000003074514e-05, 2.0315000000437067e-05, 2.0280000001093867e-05, 2.0341000002588316e-05, 2.0278000000928387e-05, 2.0306999999775144e-05, 2.039200000325536e-05, 2.031000000357608e-05, 2.0308000003410598e-05, 2.0311000000106105e-05, 2.035800000044219e-05, 2.0331000001760913e-05]\n",
      "Average over the results  2.037053000044864e-05\n"
     ]
    }
   ],
   "source": [
    "results = timer() #send string\n",
    "print(\"Total results \",results)\n",
    "print(\"Average over the results \",Average(results))\n",
    "\n"
   ]
  },
  {
   "cell_type": "code",
   "execution_count": 13,
   "metadata": {},
   "outputs": [],
   "source": [
    "def logtocsv():\n",
    "    with open('test.csv', 'a') as f: #'w' for write, 'a' for append\n",
    "        f.write(\"10\")\n",
    "        f.write(\",\")\n",
    "        f.write(str(Average(results)))\n",
    "        f.write('\\n')\n",
    "\n",
    "logtocsv()"
   ]
  },
  {
   "cell_type": "markdown",
   "metadata": {},
   "source": [
    "Lookup"
   ]
  },
  {
   "cell_type": "code",
   "execution_count": 179,
   "metadata": {},
   "outputs": [],
   "source": [
    "import timeit\n",
    "\n",
    "def arrayGen():\n",
    "    j = 0\n",
    "    arr = []\n",
    "    \n",
    "    while (j < 10000):\n",
    "        arr.append(j)\n",
    "        j += 1\n",
    "\n",
    "    return arr, j\n",
    "\n",
    "Testarray, j = arrayGen()\n",
    "    "
   ]
  },
  {
   "cell_type": "code",
   "execution_count": 180,
   "metadata": {},
   "outputs": [
    {
     "name": "stdout",
     "output_type": "stream",
     "text": [
      "1.14 ms ± 86.3 µs per loop (mean ± std. dev. of 10 runs, 10 loops each)\n"
     ]
    }
   ],
   "source": [
    "%timeit -n 10 -r 10 arrayGen()"
   ]
  },
  {
   "cell_type": "code",
   "execution_count": 181,
   "metadata": {},
   "outputs": [],
   "source": [
    "def arrayCall():\n",
    "    i = 0\n",
    "    while (i < len(Testarray)): \n",
    "        Testarray[i]\n",
    "        i += 1\n",
    "\n",
    "\n"
   ]
  },
  {
   "cell_type": "code",
   "execution_count": 182,
   "metadata": {},
   "outputs": [
    {
     "name": "stdout",
     "output_type": "stream",
     "text": [
      "2.21 ms ± 842 µs per loop (mean ± std. dev. of 10 runs, 10 loops each)\n"
     ]
    }
   ],
   "source": [
    "%timeit -n 10 -r 10 arrayCall()"
   ]
  },
  {
   "cell_type": "code",
   "execution_count": 183,
   "metadata": {},
   "outputs": [
    {
     "name": "stdout",
     "output_type": "stream",
     "text": [
      "timing\n",
      "Total results  [0.01716832399984014, 0.017356314999915412, 0.016411319000098956, 0.016130293000060192, 0.017071873000077176, 0.01601723400017363, 0.015854837999995652, 0.015093128999978944, 0.01522740999985217, 0.015380075999928522]\n",
      "Average over the results  0.01617108109999208\n"
     ]
    }
   ],
   "source": [
    "def timer():\n",
    "    if __name__ == '__main__':\n",
    "        import timeit\n",
    "        print(\"timing\")\n",
    "        return timeit.repeat(\"arrayCall()\", setup=\"from __main__ import arrayCall\", repeat=10, number=10) #from 0 to 6\n",
    "\n",
    "results = timer() #send string\n",
    "print(\"Total results \",results)\n",
    "print(\"Average over the results \",Average(results))"
   ]
  },
  {
   "cell_type": "code",
   "execution_count": 184,
   "metadata": {},
   "outputs": [],
   "source": [
    "def logtocsv():\n",
    "    with open('lookup.csv', 'a') as f: #'w' for write, 'a' for append\n",
    "        f.write(str(j))\n",
    "        f.write(\",\")\n",
    "        f.write(str(Average(results)))\n",
    "        f.write('\\n')\n",
    "\n",
    "logtocsv()"
   ]
  }
 ],
 "metadata": {
  "interpreter": {
   "hash": "31f2aee4e71d21fbe5cf8b01ff0e069b9275f58929596ceb00d14d90e3e16cd6"
  },
  "kernelspec": {
   "display_name": "Python 3.8.9 64-bit",
   "language": "python",
   "name": "python3"
  },
  "language_info": {
   "codemirror_mode": {
    "name": "ipython",
    "version": 3
   },
   "file_extension": ".py",
   "mimetype": "text/x-python",
   "name": "python",
   "nbconvert_exporter": "python",
   "pygments_lexer": "ipython3",
   "version": "3.8.9"
  },
  "orig_nbformat": 4
 },
 "nbformat": 4,
 "nbformat_minor": 2
}
