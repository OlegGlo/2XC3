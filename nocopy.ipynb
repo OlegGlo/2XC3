{
 "cells": [
  {
   "cell_type": "code",
   "execution_count": 56,
   "metadata": {},
   "outputs": [],
   "source": [
    "def is_sorted(lst, key=lambda x: x):\n",
    "    for i, el in enumerate(lst[1:]):\n",
    "        if key(el) < key(lst[i]): # i is the index of the previous element\n",
    "            return False\n",
    "    return True"
   ]
  },
  {
   "cell_type": "code",
   "execution_count": 57,
   "metadata": {},
   "outputs": [],
   "source": [
    "import random\n",
    "\n",
    "def create_random_list(n):\n",
    "    L = []\n",
    "    for _ in range(n):\n",
    "        L.append(random.randint(1,n))\n",
    "    return L"
   ]
  },
  {
   "cell_type": "code",
   "execution_count": 58,
   "metadata": {},
   "outputs": [],
   "source": [
    "def quicksort_inplace(L, left=0, right=None):\n",
    "    if (right == None):\n",
    "        right = len(L)-1\n",
    "    if (left < right):\n",
    "        p = partition(L, left, right)\n",
    "        quicksort_inplace(L, left, p-1)\n",
    "        quicksort_inplace(L, p+1, right)\n",
    "    else: \n",
    "        return\n",
    "    \n",
    "def partition(L, left, right):\n",
    "    pivot = L[left]\n",
    "    n = right+1\n",
    "    for i in range(right,left,-1):\n",
    "        if (L[i]>pivot):\n",
    "            n -= 1\n",
    "            L[n], L[i] = L[i], L[n]\n",
    "    L[n-1], L[left] = L[left], L[n-1]\n",
    "    return n-1"
   ]
  },
  {
   "cell_type": "code",
   "execution_count": 59,
   "metadata": {},
   "outputs": [],
   "source": [
    "def timer(index):\n",
    "    if __name__ == '__main__':\n",
    "        import timeit\n",
    "        print(\"timing for {} runs\".format(index))\n",
    "        return timeit.repeat(\"quicksort_inplace(array)\", setup=\"from __main__ import quicksort_inplace, array\", repeat=1, number=1) #from 0 to 6"
   ]
  },
  {
   "cell_type": "code",
   "execution_count": 60,
   "metadata": {},
   "outputs": [],
   "source": [
    "def logtocsv(num,results):\n",
    "    with open('nocopy.csv', 'a') as f: #'w' for write, 'a' for append\n",
    "        f.write(str(num))\n",
    "        f.write(\",\")\n",
    "        f.write(str(results))\n",
    "        f.write('\\n')"
   ]
  },
  {
   "cell_type": "code",
   "execution_count": 61,
   "metadata": {},
   "outputs": [
    {
     "name": "stdout",
     "output_type": "stream",
     "text": [
      "timing for 10 runs\n",
      "timing for 10 runs\n",
      "timing for 10 runs\n",
      "timing for 10 runs\n",
      "timing for 10 runs\n",
      "timing for 100 runs\n",
      "timing for 100 runs\n",
      "timing for 100 runs\n",
      "timing for 100 runs\n",
      "timing for 100 runs\n",
      "timing for 1000 runs\n",
      "timing for 1000 runs\n",
      "timing for 1000 runs\n",
      "timing for 1000 runs\n",
      "timing for 1000 runs\n",
      "timing for 10000 runs\n",
      "timing for 10000 runs\n",
      "timing for 10000 runs\n",
      "timing for 10000 runs\n",
      "timing for 10000 runs\n",
      "timing for 100000 runs\n",
      "timing for 100000 runs\n",
      "timing for 100000 runs\n",
      "timing for 100000 runs\n",
      "timing for 100000 runs\n",
      "timing for 1000000 runs\n",
      "timing for 1000000 runs\n",
      "timing for 1000000 runs\n",
      "timing for 1000000 runs\n",
      "timing for 1000000 runs\n"
     ]
    }
   ],
   "source": [
    "i = 10\n",
    "\n",
    "while (i < 1000001):\n",
    "    for x in range(5):\n",
    "        testarray = create_random_list(i) \n",
    "        array = testarray.copy()\n",
    "        logtocsv(i, timer(i)[0])\n",
    "\n",
    "    i *= 10\n",
    "\n",
    "# array = create_random_list(1000)\n",
    "# %timeit -r 1 -n 1 quicksort_inplace(array)\n",
    "# array = create_random_list(1000)\n",
    "# %timeit -r 1 -n 1 quicksort_inplace(array)\n",
    "# print(array)\n",
    "# quicksort_inplace(array)\n",
    "# print(array)"
   ]
  }
 ],
 "metadata": {
  "interpreter": {
   "hash": "31f2aee4e71d21fbe5cf8b01ff0e069b9275f58929596ceb00d14d90e3e16cd6"
  },
  "kernelspec": {
   "display_name": "Python 3.8.9 64-bit",
   "language": "python",
   "name": "python3"
  },
  "language_info": {
   "codemirror_mode": {
    "name": "ipython",
    "version": 3
   },
   "file_extension": ".py",
   "mimetype": "text/x-python",
   "name": "python",
   "nbconvert_exporter": "python",
   "pygments_lexer": "ipython3",
   "version": "3.8.9"
  },
  "orig_nbformat": 4
 },
 "nbformat": 4,
 "nbformat_minor": 2
}
