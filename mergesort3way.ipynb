{
 "cells": [
  {
   "cell_type": "code",
   "execution_count": null,
   "metadata": {},
   "outputs": [],
   "source": [
    "import random\n",
    "\n",
    "def create_random_list(n):\n",
    "    L = []\n",
    "    for _ in range(n):\n",
    "        L.append(random.randint(1,n))\n",
    "    return L"
   ]
  },
  {
   "cell_type": "code",
   "execution_count": 35,
   "metadata": {},
   "outputs": [],
   "source": [
    "def mergesort_three(L):\n",
    "    \n",
    "    if len(L) <= 1:\n",
    "        return \n",
    "\n",
    "    left = list(split(L,3))[0]\n",
    "    mid = list(split(L,3))[1]\n",
    "    right = list(split(L,3))[2]\n",
    "\n",
    "    #Mergesort core\n",
    "    mergesort_three(left)\n",
    "    mergesort_three(mid)\n",
    "    mergesort_three(right)\n",
    "    \n",
    "    temp = merge_three(left, mid)\n",
    "    final = merge_three(temp, right)\n",
    "\n",
    "    #Copy the sorted list to L\n",
    "    for i in range(len(final)):\n",
    "        L[i] = final[i]\n",
    "\n",
    "\n",
    "def merge_three(left, right):\n",
    "    L = []\n",
    "    i = j = 0\n",
    "\n",
    "    while i < len(left) or j < len(right):\n",
    "        #Check it there's still elements to be merged from left and/or right\n",
    "        if i >= len(left): #if an element of one list are exhausted\n",
    "            L.append(right[j])\n",
    "            j += 1\n",
    "        elif j >= len(right):\n",
    "            L.append(left[i])\n",
    "            i += 1\n",
    "        else:\n",
    "            if left[i] <= right[j]:\n",
    "                L.append(left[i])\n",
    "                i += 1\n",
    "            else: #if left bigger or equal to right\n",
    "                L.append(right[j])\n",
    "                j += 1\n",
    "    return L"
   ]
  },
  {
   "cell_type": "code",
   "execution_count": 36,
   "metadata": {},
   "outputs": [],
   "source": [
    "def split(a, n): #from https://stackoverflow.com/questions/2130016/splitting-a-list-into-n-parts-of-approximately-equal-length\n",
    "    k, m = divmod(len(a), n)\n",
    "    return (a[i*k+min(i, m):(i+1)*k+min(i+1, m)] for i in range(n))"
   ]
  },
  {
   "cell_type": "code",
   "execution_count": 38,
   "metadata": {},
   "outputs": [],
   "source": [
    "def is_sorted(lst, key=lambda x: x):\n",
    "    for i, el in enumerate(lst[1:]):\n",
    "        if key(el) < key(lst[i]): # i is the index of the previous element\n",
    "            return False\n",
    "    return True"
   ]
  },
  {
   "cell_type": "code",
   "execution_count": 39,
   "metadata": {},
   "outputs": [],
   "source": [
    "def timer(index):\n",
    "    if __name__ == '__main__':\n",
    "        import timeit\n",
    "        print(\"timing for {} runs\".format(index))\n",
    "        return timeit.repeat(\"mergesort_three(array)\", setup=\"from __main__ import mergesort_three, array\", repeat=1, number=1) #from 0 to 6"
   ]
  },
  {
   "cell_type": "code",
   "execution_count": 40,
   "metadata": {},
   "outputs": [],
   "source": [
    "def logtocsv(num,results):\n",
    "    with open('3waymerge.csv', 'a') as f: #'w' for write, 'a' for append\n",
    "        f.write(str(num))\n",
    "        f.write(\",\")\n",
    "        f.write(str(results))\n",
    "        f.write('\\n')"
   ]
  },
  {
   "cell_type": "code",
   "execution_count": 41,
   "metadata": {},
   "outputs": [],
   "source": [
    "array = [45, -2, -45, 78, 30, -42, 10, 19 , 73, 93,653,7,432,0,56,76,5432,23,245,678,9,0,98,765,43,2]\n",
    "\n",
    "# left = list(splitCopy(array,3))[0]\n",
    "# mid = list(splitCopy(array,3))[1]\n",
    "# right = list(splitCopy(array,3))[2]\n",
    "\n",
    "# print(left)\n",
    "# print(mid)\n",
    "# print(right)\n",
    "\n",
    "# mergesort(array)\n",
    "\n",
    "# print(array)"
   ]
  },
  {
   "cell_type": "code",
   "execution_count": 42,
   "metadata": {},
   "outputs": [
    {
     "name": "stdout",
     "output_type": "stream",
     "text": [
      "timing for 10 runs\n",
      "timing for 10 runs\n",
      "timing for 10 runs\n",
      "timing for 10 runs\n",
      "timing for 10 runs\n",
      "timing for 100 runs\n",
      "timing for 100 runs\n",
      "timing for 100 runs\n",
      "timing for 100 runs\n",
      "timing for 100 runs\n",
      "timing for 1000 runs\n",
      "timing for 1000 runs\n",
      "timing for 1000 runs\n",
      "timing for 1000 runs\n",
      "timing for 1000 runs\n",
      "timing for 10000 runs\n",
      "timing for 10000 runs\n",
      "timing for 10000 runs\n",
      "timing for 10000 runs\n",
      "timing for 10000 runs\n",
      "timing for 100000 runs\n",
      "timing for 100000 runs\n",
      "timing for 100000 runs\n",
      "timing for 100000 runs\n",
      "timing for 100000 runs\n",
      "timing for 1000000 runs\n",
      "timing for 1000000 runs\n",
      "timing for 1000000 runs\n",
      "timing for 1000000 runs\n",
      "timing for 1000000 runs\n"
     ]
    }
   ],
   "source": [
    "i = 10\n",
    "\n",
    "while (i < 1000001):\n",
    "    for x in range(5):\n",
    "        testarray = create_random_list(i)  \n",
    "        array = testarray.copy()\n",
    "        logtocsv(i, timer(i)[0])\n",
    "\n",
    "    i *= 10"
   ]
  }
 ],
 "metadata": {
  "interpreter": {
   "hash": "31f2aee4e71d21fbe5cf8b01ff0e069b9275f58929596ceb00d14d90e3e16cd6"
  },
  "kernelspec": {
   "display_name": "Python 3.8.9 64-bit",
   "language": "python",
   "name": "python3"
  },
  "language_info": {
   "codemirror_mode": {
    "name": "ipython",
    "version": 3
   },
   "file_extension": ".py",
   "mimetype": "text/x-python",
   "name": "python",
   "nbconvert_exporter": "python",
   "pygments_lexer": "ipython3",
   "version": "3.8.9"
  },
  "orig_nbformat": 4
 },
 "nbformat": 4,
 "nbformat_minor": 2
}
