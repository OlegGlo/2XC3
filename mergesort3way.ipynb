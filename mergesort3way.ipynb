{
 "cells": [
  {
   "cell_type": "code",
   "execution_count": 3,
   "metadata": {},
   "outputs": [],
   "source": [
    "def mergesort(L):\n",
    "    \n",
    "    if len(L) <= 1:\n",
    "        return \n",
    "    mid = len(L)//2 \n",
    "    left, right = L[:mid], L[mid:]\n",
    "\n",
    "    #Mergesort core\n",
    "    mergesort(left)\n",
    "    mergesort(right)\n",
    "    temp = merge(left, right)\n",
    "\n",
    "    #Copy the sorted list to L\n",
    "    for i in range(len(temp)):\n",
    "        L[i] = temp[i]\n",
    "\n",
    "\n",
    "def merge(left, right):\n",
    "    L = []\n",
    "    i = j = 0\n",
    "\n",
    "    while i < len(left) or j < len(right):\n",
    "        #Check it there's still elements to be merged from left and/or right\n",
    "        if i >= len(left): #if an element of one list are exhausted\n",
    "            L.append(right[j])\n",
    "            j += 1\n",
    "        elif j >= len(right):\n",
    "            L.append(left[i])\n",
    "            i += 1\n",
    "        else:\n",
    "            if left[i] <= right[j]:\n",
    "                L.append(left[i])\n",
    "                i += 1\n",
    "            else: #if left bigger or equal to right\n",
    "                L.append(right[j])\n",
    "                j += 1\n",
    "    return L"
   ]
  },
  {
   "cell_type": "code",
   "execution_count": 4,
   "metadata": {},
   "outputs": [
    {
     "name": "stdout",
     "output_type": "stream",
     "text": [
      "[-45, -42, -2, 10, 19, 30, 45, 73, 78, 93]\n"
     ]
    }
   ],
   "source": [
    "array = [45, -2, -45, 78, 30, -42, 10, 19 , 73, 93]\n",
    "\n",
    "mergesort(array)\n",
    "\n",
    "print(array)"
   ]
  }
 ],
 "metadata": {
  "interpreter": {
   "hash": "31f2aee4e71d21fbe5cf8b01ff0e069b9275f58929596ceb00d14d90e3e16cd6"
  },
  "kernelspec": {
   "display_name": "Python 3.8.9 64-bit",
   "language": "python",
   "name": "python3"
  },
  "language_info": {
   "codemirror_mode": {
    "name": "ipython",
    "version": 3
   },
   "file_extension": ".py",
   "mimetype": "text/x-python",
   "name": "python",
   "nbconvert_exporter": "python",
   "pygments_lexer": "ipython3",
   "version": "3.8.9"
  },
  "orig_nbformat": 4
 },
 "nbformat": 4,
 "nbformat_minor": 2
}
