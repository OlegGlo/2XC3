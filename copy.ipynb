{
 "cells": [
  {
   "cell_type": "code",
   "execution_count": 60,
   "metadata": {},
   "outputs": [],
   "source": [
    "def copy(array):\n",
    "\n",
    "    arrCpy = array.copy()\n",
    "\n",
    "    return arrCpy"
   ]
  },
  {
   "cell_type": "code",
   "execution_count": 61,
   "metadata": {},
   "outputs": [],
   "source": [
    "import random\n",
    "\n",
    "def arrayGenApp(upperLimit):\n",
    "    j = 0\n",
    "    arr = []\n",
    "\n",
    "    while (j < upperLimit):\n",
    "        arr.append(random.randint(0,upperLimit))\n",
    "        j += 1\n",
    "\n",
    "    return arr\n",
    "\n",
    "    # while (i < upperLimit):\n",
    "    #     array = [random.randint(0,100) for x in range(i)]\n",
    "    #     i += 1\n",
    "\n",
    "    # return array\n",
    "\n",
    "    # for size in range(0, 1000001, 100000):\n",
    "    #     array = [random.randint(0,100) for x in range(size)]\n",
    "    #     collection.append(array)\n",
    "    #     sizeOfColl.append(size)\n",
    "    "
   ]
  },
  {
   "cell_type": "code",
   "execution_count": 62,
   "metadata": {},
   "outputs": [],
   "source": [
    "def average(lst):\n",
    "    return sum(lst) / len(lst)"
   ]
  },
  {
   "cell_type": "code",
   "execution_count": 63,
   "metadata": {},
   "outputs": [],
   "source": [
    "def timer(index):\n",
    "    if __name__ == '__main__':\n",
    "        import timeit\n",
    "        print(\"timing for {} runs\".format(index))\n",
    "        #print(array)\n",
    "        return timeit.repeat(\"copy(array)\", setup=\"from __main__ import copy, array\", repeat=10, number=5) #from 0 to 6"
   ]
  },
  {
   "cell_type": "code",
   "execution_count": 64,
   "metadata": {},
   "outputs": [],
   "source": [
    "def logtocsv(num,results):\n",
    "    with open('copy.csv', 'a') as f: #'w' for write, 'a' for append\n",
    "        f.write(str(num))\n",
    "        f.write(\",\")\n",
    "        f.write(str(results))\n",
    "        f.write('\\n')"
   ]
  },
  {
   "cell_type": "code",
   "execution_count": 65,
   "metadata": {},
   "outputs": [
    {
     "name": "stdout",
     "output_type": "stream",
     "text": [
      "timing for 1 runs\n",
      "timing for 10 runs\n",
      "timing for 100 runs\n",
      "timing for 1000 runs\n",
      "timing for 10000 runs\n",
      "timing for 100000 runs\n",
      "timing for 1000000 runs\n"
     ]
    }
   ],
   "source": [
    "i = 1\n",
    "while (i < 1000001):\n",
    "    array = arrayGenApp(i)\n",
    "    #print(average(timer(i)))\n",
    "    #%timeit arrayLook(array)\n",
    "    logtocsv(i, average(timer(i)))\n",
    "    i *= 10"
   ]
  },
  {
   "cell_type": "code",
   "execution_count": 66,
   "metadata": {},
   "outputs": [
    {
     "name": "stdout",
     "output_type": "stream",
     "text": [
      "10\n",
      "timing for 10 runs\n",
      "1.3408999961939116e-06\n",
      "181 ns ± 3.66 ns per loop (mean ± std. dev. of 7 runs, 10,000,000 loops each)\n"
     ]
    }
   ],
   "source": [
    "runs = 10\n",
    "\n",
    "array = arrayGenApp(runs)\n",
    "\n",
    "print(len(array))\n",
    "\n",
    "# print(timer(runs))\n",
    "\n",
    "print(average(timer(runs)))\n",
    "\n",
    "%timeit copy(array)"
   ]
  }
 ],
 "metadata": {
  "interpreter": {
   "hash": "31f2aee4e71d21fbe5cf8b01ff0e069b9275f58929596ceb00d14d90e3e16cd6"
  },
  "kernelspec": {
   "display_name": "Python 3.8.9 64-bit",
   "language": "python",
   "name": "python3"
  },
  "language_info": {
   "codemirror_mode": {
    "name": "ipython",
    "version": 3
   },
   "file_extension": ".py",
   "mimetype": "text/x-python",
   "name": "python",
   "nbconvert_exporter": "python",
   "pygments_lexer": "ipython3",
   "version": "3.8.9"
  },
  "orig_nbformat": 4
 },
 "nbformat": 4,
 "nbformat_minor": 2
}
