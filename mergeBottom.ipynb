{
 "cells": [
  {
   "cell_type": "code",
   "execution_count": 16,
   "metadata": {},
   "outputs": [],
   "source": [
    "def mergesort_bottom(L):\n",
    "    w = 1\n",
    "    while (w < len(L)):\n",
    "        start = 0\n",
    "        while (start < len(L)):\n",
    "            end = min(start + (w*2-1), len(L)-1)\n",
    "            mid = (start + end)//2\n",
    "            if (w > len(L)//2):\n",
    "                mid = end - (len(L) % w)\n",
    "            merge_bottom(L, start, mid, end)\n",
    "            start += w*2\n",
    "        w *= 2\n",
    "    return L"
   ]
  },
  {
   "cell_type": "code",
   "execution_count": 17,
   "metadata": {},
   "outputs": [],
   "source": [
    "def merge_bottom(L, start, mid, end):\n",
    "    l, r = [], []\n",
    "    a, b = mid - start + 1, end - mid\n",
    "    for i in range(0,a):\n",
    "        l.append(L[start + i])\n",
    "    for i in range(0,b):\n",
    "        r.append(L[mid + i + 1])\n",
    "\n",
    "    x, y, z = 0, 0, start\n",
    "    while (x < a and y < b):\n",
    "        if l[x] > r[y]:\n",
    "            L[z] = r[y]\n",
    "            y += 1\n",
    "        else:\n",
    "            L[z] = l[x]\n",
    "            x += 1\n",
    "        z += 1\n",
    "    while (x < a):\n",
    "        L[z] = l[x]\n",
    "        x += 1\n",
    "        z += 1\n",
    "    while (y < b):\n",
    "        L[z] = r[y]\n",
    "        y += 1\n",
    "        z += 1\n",
    "    return\n",
    "\n",
    "#no recursion, only lists"
   ]
  },
  {
   "cell_type": "code",
   "execution_count": 18,
   "metadata": {},
   "outputs": [
    {
     "name": "stdout",
     "output_type": "stream",
     "text": [
      "[2, 4, 2, 45, 7, 5, 2, 2, 5, 8, 9, 4, 23]\n",
      "[2, 2, 2, 2, 4, 4, 5, 5, 7, 8, 9, 23, 45]\n"
     ]
    }
   ],
   "source": [
    "array = [2,4,2,45,7,5,2,2,5,8,9,4,23]\n",
    "\n",
    "print(array)\n",
    "\n",
    "mergesort_bottom(array)\n",
    "\n",
    "print(array)"
   ]
  }
 ],
 "metadata": {
  "interpreter": {
   "hash": "31f2aee4e71d21fbe5cf8b01ff0e069b9275f58929596ceb00d14d90e3e16cd6"
  },
  "kernelspec": {
   "display_name": "Python 3.8.9 64-bit",
   "language": "python",
   "name": "python3"
  },
  "language_info": {
   "codemirror_mode": {
    "name": "ipython",
    "version": 3
   },
   "file_extension": ".py",
   "mimetype": "text/x-python",
   "name": "python",
   "nbconvert_exporter": "python",
   "pygments_lexer": "ipython3",
   "version": "3.8.3"
  },
  "orig_nbformat": 4
 },
 "nbformat": 4,
 "nbformat_minor": 2
}
