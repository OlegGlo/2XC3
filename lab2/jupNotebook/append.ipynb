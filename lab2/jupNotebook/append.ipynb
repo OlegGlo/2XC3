{
 "cells": [
  {
   "cell_type": "markdown",
   "metadata": {},
   "source": [
    "Append\n",
    "\n",
    "Hypothesis, array append does not depend on the size of the value being appended"
   ]
  },
  {
   "cell_type": "code",
   "execution_count": 22,
   "metadata": {},
   "outputs": [],
   "source": [
    "j11 = 10\n",
    "j12 = 1000"
   ]
  },
  {
   "cell_type": "code",
   "execution_count": 23,
   "metadata": {},
   "outputs": [],
   "source": [
    "# for x in range(0, 1001, 50):\n",
    "#     print(x)"
   ]
  },
  {
   "cell_type": "code",
   "execution_count": 24,
   "metadata": {},
   "outputs": [],
   "source": [
    "def arrayGen1(): #values in array constant\n",
    "    j = 0\n",
    "    arr = []\n",
    "    \n",
    "    while (j < 10000):\n",
    "        arr.append(1)\n",
    "        j += 1\n",
    "\n",
    "    return arr, j"
   ]
  },
  {
   "cell_type": "code",
   "execution_count": 25,
   "metadata": {},
   "outputs": [],
   "source": [
    "def arrayGen2(): #values in array constant\n",
    "    j = 0\n",
    "    arr = []\n",
    "    \n",
    "    while (j < 10):\n",
    "        arr.append(j)\n",
    "        j += 1\n",
    "\n",
    "    return arr, j"
   ]
  },
  {
   "cell_type": "code",
   "execution_count": 26,
   "metadata": {},
   "outputs": [
    {
     "name": "stdout",
     "output_type": "stream",
     "text": [
      "0\n",
      "1\n",
      "2\n",
      "[0, 1, 2, 3, 4, 5, 6, 7, 8, 9]\n",
      "[0, 1, 2, 3, 4, 5, 6, 7, 8, 9, 1]\n"
     ]
    }
   ],
   "source": [
    "print(arrayGen2()[0][0])\n",
    "print(arrayGen2()[0][1])\n",
    "print(arrayGen2()[0][2])\n",
    "\n",
    "result = arrayGen2()[0]\n",
    "print(result)\n",
    "result.append(1)\n",
    "print(result)\n",
    "\n",
    "# %timeit result.append(2)\n"
   ]
  },
  {
   "cell_type": "code",
   "execution_count": 27,
   "metadata": {},
   "outputs": [
    {
     "name": "stdout",
     "output_type": "stream",
     "text": [
      "1\n",
      "1\n",
      "1\n"
     ]
    }
   ],
   "source": [
    "print(arrayGen1()[0][0])\n",
    "print(arrayGen1()[0][1])\n",
    "print(arrayGen1()[0][2])\n",
    "\n",
    "# %timeit arrayGen1()"
   ]
  },
  {
   "cell_type": "code",
   "execution_count": 28,
   "metadata": {},
   "outputs": [],
   "source": [
    "def arrayGenApp(upperLimit): #values in array increasing\n",
    "    j = 0\n",
    "    arr = []\n",
    "    \n",
    "    while (j < upperLimit):\n",
    "        arr.append(1)\n",
    "        j += 1\n",
    "\n",
    "    return arr"
   ]
  },
  {
   "cell_type": "code",
   "execution_count": 29,
   "metadata": {},
   "outputs": [],
   "source": [
    "# j11 = 10\n",
    "\n",
    "# print(arrayGenApp(10))\n",
    "\n",
    "# %timeit arrayGenApp(j11)"
   ]
  },
  {
   "cell_type": "code",
   "execution_count": 30,
   "metadata": {},
   "outputs": [],
   "source": [
    "def timer(index):\n",
    "    if __name__ == '__main__':\n",
    "        import timeit\n",
    "        print(\"timing for {} runs\".format(index))\n",
    "        return timeit.repeat(\"arrayGenApp({})\".format(index), setup=\"from __main__ import arrayGenApp\", repeat=10, number=5) #from 0 to 6"
   ]
  },
  {
   "cell_type": "code",
   "execution_count": 31,
   "metadata": {},
   "outputs": [],
   "source": [
    "def average(lst):\n",
    "    return sum(lst) / len(lst)"
   ]
  },
  {
   "cell_type": "code",
   "execution_count": 32,
   "metadata": {},
   "outputs": [],
   "source": [
    "def logtocsv(num,results):\n",
    "    with open('append.csv', 'a') as f: #'w' for write, 'a' for append\n",
    "        f.write(str(num))\n",
    "        f.write(\",\")\n",
    "        f.write(str(results))\n",
    "        f.write('\\n')"
   ]
  },
  {
   "cell_type": "code",
   "execution_count": 33,
   "metadata": {},
   "outputs": [
    {
     "name": "stdout",
     "output_type": "stream",
     "text": [
      "timing for 1 runs\n",
      "timing for 3 runs\n",
      "timing for 10 runs\n",
      "timing for 30 runs\n",
      "timing for 100 runs\n",
      "timing for 300 runs\n",
      "timing for 1000 runs\n",
      "timing for 3000 runs\n",
      "timing for 10000 runs\n",
      "timing for 30000 runs\n",
      "timing for 100000 runs\n",
      "timing for 300000 runs\n",
      "timing for 1000000 runs\n",
      "timing for 3000000 runs\n"
     ]
    }
   ],
   "source": [
    "# for x in range(0, 1000001, 50000):\n",
    "#     logtocsv(x, average(timer(x)))\n",
    "\n",
    "i = 1\n",
    "j = 3\n",
    "while (i < 1000001):\n",
    "    logtocsv(i, average(timer(i)))\n",
    "    logtocsv(j, average(timer(j)))\n",
    "    \n",
    "    i *= 10\n",
    "    j *= 10\n",
    "\n",
    "\n",
    "\n",
    "# results = timer(j11) #send string\n",
    "# print(\"Total results \",results)\n",
    "# print(\"Average over the results \",Average(results))"
   ]
  }
 ],
 "metadata": {
  "interpreter": {
   "hash": "31f2aee4e71d21fbe5cf8b01ff0e069b9275f58929596ceb00d14d90e3e16cd6"
  },
  "kernelspec": {
   "display_name": "Python 3.8.9 64-bit",
   "language": "python",
   "name": "python3"
  },
  "language_info": {
   "codemirror_mode": {
    "name": "ipython",
    "version": 3
   },
   "file_extension": ".py",
   "mimetype": "text/x-python",
   "name": "python",
   "nbconvert_exporter": "python",
   "pygments_lexer": "ipython3",
   "version": "3.8.9"
  },
  "orig_nbformat": 4
 },
 "nbformat": 4,
 "nbformat_minor": 2
}
