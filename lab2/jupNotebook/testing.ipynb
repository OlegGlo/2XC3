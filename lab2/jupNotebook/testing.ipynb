{
 "cells": [
  {
   "cell_type": "markdown",
   "metadata": {},
   "source": [
    "Copy method"
   ]
  },
  {
   "cell_type": "code",
   "execution_count": 101,
   "metadata": {},
   "outputs": [],
   "source": [
    "import random\n",
    "\n",
    "collection = []\n",
    "sizeOfColl = []\n",
    "\n",
    "def ArrayGen():\n",
    "\n",
    "    i = 1\n",
    "    while (i < 1000001):\n",
    "        array = [random.randint(0,100) for x in range(i)]\n",
    "        collection.append(array)\n",
    "        i *= 10\n",
    "\n",
    "    # for size in range(0, 1000001, 100000):\n",
    "    #     array = [random.randint(0,100) for x in range(size)]\n",
    "    #     collection.append(array)\n",
    "    #     sizeOfColl.append(size)\n",
    "    \n",
    "ArrayGen()"
   ]
  },
  {
   "cell_type": "code",
   "execution_count": 102,
   "metadata": {},
   "outputs": [],
   "source": [
    "def Average(lst):\n",
    "    return sum(lst) / len(lst)"
   ]
  },
  {
   "cell_type": "code",
   "execution_count": 103,
   "metadata": {},
   "outputs": [],
   "source": [
    "def copy(array):\n",
    "\n",
    "    arrCpy = array.copy()\n",
    "\n",
    "    return arrCpy"
   ]
  },
  {
   "cell_type": "code",
   "execution_count": 121,
   "metadata": {},
   "outputs": [],
   "source": [
    "def timer():\n",
    "    if __name__ == '__main__':\n",
    "        import timeit\n",
    "        print(\"timing\")\n",
    "        return timeit.repeat(\"copy(collection[6])\", setup=\"from __main__ import copy, collection\", repeat=10, number=10) #from 0 to 6"
   ]
  },
  {
   "cell_type": "code",
   "execution_count": 122,
   "metadata": {},
   "outputs": [
    {
     "name": "stdout",
     "output_type": "stream",
     "text": [
      "timing\n",
      "Average over the results  0.04023953699997947\n"
     ]
    }
   ],
   "source": [
    "results = timer() #send string\n",
    "#print(\"Total results \",results)\n",
    "print(\"Average over the results \",Average(results))\n",
    "\n"
   ]
  },
  {
   "cell_type": "code",
   "execution_count": null,
   "metadata": {},
   "outputs": [],
   "source": [
    "def logtocsv():\n",
    "    with open('test.csv', 'a') as f: #'w' for write, 'a' for append\n",
    "        f.write(\"10\")\n",
    "        f.write(\",\")\n",
    "        f.write(str(Average(results)))\n",
    "        f.write('\\n')\n",
    "\n",
    "logtocsv()"
   ]
  },
  {
   "cell_type": "markdown",
   "metadata": {},
   "source": [
    "Lookup"
   ]
  },
  {
   "cell_type": "code",
   "execution_count": 94,
   "metadata": {},
   "outputs": [],
   "source": [
    "import timeit\n",
    "\n",
    "def arrayGen():\n",
    "    j = 0\n",
    "    arr = []\n",
    "    \n",
    "    while (j < 1000000):\n",
    "        arr.append(j)\n",
    "        j += 1\n",
    "\n",
    "    return arr, j\n",
    "\n",
    "Testarray, j = arrayGen()\n",
    "    "
   ]
  },
  {
   "cell_type": "code",
   "execution_count": 95,
   "metadata": {},
   "outputs": [
    {
     "name": "stdout",
     "output_type": "stream",
     "text": [
      "143 ms ± 5.19 ms per loop (mean ± std. dev. of 10 runs, 10 loops each)\n"
     ]
    }
   ],
   "source": [
    "%timeit -n 5 -r 10 arrayGen()"
   ]
  },
  {
   "cell_type": "code",
   "execution_count": 96,
   "metadata": {},
   "outputs": [],
   "source": [
    "def arrayCall():\n",
    "    i = 0\n",
    "    while (i < len(Testarray)): \n",
    "        Testarray[i]\n",
    "        i += 1"
   ]
  },
  {
   "cell_type": "code",
   "execution_count": 97,
   "metadata": {},
   "outputs": [],
   "source": [
    "def Average(lst):\n",
    "    return sum(lst) / len(lst)"
   ]
  },
  {
   "cell_type": "code",
   "execution_count": 98,
   "metadata": {},
   "outputs": [
    {
     "name": "stdout",
     "output_type": "stream",
     "text": [
      "174 ms ± 5.97 ms per loop (mean ± std. dev. of 10 runs, 10 loops each)\n"
     ]
    }
   ],
   "source": [
    "%timeit -n 5 -r 10 arrayCall()"
   ]
  },
  {
   "cell_type": "code",
   "execution_count": 99,
   "metadata": {},
   "outputs": [
    {
     "name": "stdout",
     "output_type": "stream",
     "text": [
      "timing\n",
      "Total results  [1.7472206130000814, 1.705562949999603, 1.711983644999691, 1.7178032800002256, 1.6732150220000221, 1.6578326029998607, 1.6664506739998615, 1.6650769890002266, 1.6603429709998636, 1.6681144529998164]\n",
      "Average over the results  1.6873603199999252\n"
     ]
    }
   ],
   "source": [
    "def timer():\n",
    "    if __name__ == '__main__':\n",
    "        import timeit\n",
    "        print(\"timing\")\n",
    "        return timeit.repeat(\"arrayCall()\", setup=\"from __main__ import arrayCall\", repeat=5, number=10) #from 0 to 6\n",
    "\n",
    "results = timer() #send string\n",
    "print(\"Total results \",results)\n",
    "print(\"Average over the results \",Average(results))"
   ]
  },
  {
   "cell_type": "code",
   "execution_count": 100,
   "metadata": {},
   "outputs": [],
   "source": [
    "def logtocsv():\n",
    "    with open('lookup.csv', 'a') as f: #'w' for write, 'a' for append\n",
    "        f.write(str(j))\n",
    "        f.write(\",\")\n",
    "        f.write(str(Average(results)))\n",
    "        f.write('\\n')\n",
    "\n",
    "logtocsv()"
   ]
  }
 ],
 "metadata": {
  "interpreter": {
   "hash": "31f2aee4e71d21fbe5cf8b01ff0e069b9275f58929596ceb00d14d90e3e16cd6"
  },
  "kernelspec": {
   "display_name": "Python 3.8.9 64-bit",
   "language": "python",
   "name": "python3"
  },
  "language_info": {
   "codemirror_mode": {
    "name": "ipython",
    "version": 3
   },
   "file_extension": ".py",
   "mimetype": "text/x-python",
   "name": "python",
   "nbconvert_exporter": "python",
   "pygments_lexer": "ipython3",
   "version": "3.8.9"
  },
  "orig_nbformat": 4
 },
 "nbformat": 4,
 "nbformat_minor": 2
}
